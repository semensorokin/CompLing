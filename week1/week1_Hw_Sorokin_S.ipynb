{
  "nbformat": 4,
  "nbformat_minor": 0,
  "metadata": {
    "colab": {
      "name": "week1_Hw_Sorokin_S.ipynb",
      "version": "0.3.2",
      "provenance": [],
      "collapsed_sections": []
    },
    "kernelspec": {
      "display_name": "Python 3",
      "language": "python",
      "name": "python3"
    }
  },
  "cells": [
    {
      "metadata": {
        "id": "Y6bHC5bWY00_",
        "colab_type": "code",
        "outputId": "c0de3de1-f027-4bf9-c7fc-71becbc30d2e",
        "colab": {
          "base_uri": "https://localhost:8080/",
          "height": 136
        }
      },
      "cell_type": "code",
      "source": [
        "!pip install pymorphy2\n",
        "import nltk\n",
        "nltk.download('stopwords')"
      ],
      "execution_count": 0,
      "outputs": [
        {
          "output_type": "stream",
          "text": [
            "Requirement already satisfied: pymorphy2 in /usr/local/lib/python3.6/dist-packages (0.8)\n",
            "Requirement already satisfied: docopt>=0.6 in /usr/local/lib/python3.6/dist-packages (from pymorphy2) (0.6.2)\n",
            "Requirement already satisfied: dawg-python>=0.7 in /usr/local/lib/python3.6/dist-packages (from pymorphy2) (0.7.2)\n",
            "Requirement already satisfied: pymorphy2-dicts<3.0,>=2.4 in /usr/local/lib/python3.6/dist-packages (from pymorphy2) (2.4.393442.3710985)\n",
            "[nltk_data] Downloading package stopwords to /root/nltk_data...\n",
            "[nltk_data]   Package stopwords is already up-to-date!\n"
          ],
          "name": "stdout"
        },
        {
          "output_type": "execute_result",
          "data": {
            "text/plain": [
              "True"
            ]
          },
          "metadata": {
            "tags": []
          },
          "execution_count": 32
        }
      ]
    },
    {
      "metadata": {
        "id": "eYXd1VsnYoXU",
        "colab_type": "code",
        "colab": {}
      },
      "cell_type": "code",
      "source": [
        "import json, os\n",
        "import pandas as pd\n",
        "from nltk.corpus import stopwords\n",
        "import numpy as np\n",
        "from pymorphy2 import MorphAnalyzer\n",
        "from collections import Counter\n",
        "from sklearn.feature_extraction.text import TfidfVectorizer\n",
        "morph = MorphAnalyzer()\n",
        "stops = set(stopwords.words('russian'))\n",
        "from string import punctuation\n",
        "from nltk.corpus import stopwords\n",
        "punct = punctuation+'«»—…“”*№–'\n",
        "stops = set(stopwords.words('russian'))"
      ],
      "execution_count": 0,
      "outputs": []
    },
    {
      "metadata": {
        "id": "h5k-zfhZYoXb",
        "colab_type": "code",
        "colab": {}
      },
      "cell_type": "code",
      "source": [
        "PATH_TO_DATA = '../ru_kw_eval_datasets-master/data'\n",
        "files = [os.path.join(PATH_TO_DATA, file) for file in os.listdir(PATH_TO_DATA)]\n",
        "data = pd.concat([pd.read_json(file, lines=True) for file in files][:1], axis=0, ignore_index=True)"
      ],
      "execution_count": 0,
      "outputs": []
    },
    {
      "metadata": {
        "id": "z9G4TdSlUY-R",
        "colab_type": "text"
      },
      "cell_type": "markdown",
      "source": [
        "On my local machine open file and save it as .csv. Unfortunately keywords lists were converted to the sring format, therefore in later using I decided to split them by word (not n-gram) and also normalize. "
      ]
    },
    {
      "metadata": {
        "id": "UmeFTKILYoXh",
        "colab_type": "code",
        "outputId": "a449a92b-9d38-49c9-ecfe-57570af92682",
        "colab": {
          "resources": {
            "http://localhost:8080/nbextensions/google.colab/files.js": {
              "data": "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",
              "ok": true,
              "headers": [
                [
                  "content-type",
                  "application/javascript"
                ]
              ],
              "status": 200,
              "status_text": ""
            }
          },
          "base_uri": "https://localhost:8080/",
          "height": 72
        }
      },
      "cell_type": "code",
      "source": [
        "from google.colab import files\n",
        "uploaded = files.upload()"
      ],
      "execution_count": 0,
      "outputs": [
        {
          "output_type": "display_data",
          "data": {
            "text/html": [
              "\n",
              "     <input type=\"file\" id=\"files-b48c2d84-ab4c-4368-b62b-c76ab3b50d37\" name=\"files[]\" multiple disabled />\n",
              "     <output id=\"result-b48c2d84-ab4c-4368-b62b-c76ab3b50d37\">\n",
              "      Upload widget is only available when the cell has been executed in the\n",
              "      current browser session. Please rerun this cell to enable.\n",
              "      </output>\n",
              "      <script src=\"/nbextensions/google.colab/files.js\"></script> "
            ],
            "text/plain": [
              "<IPython.core.display.HTML object>"
            ]
          },
          "metadata": {
            "tags": []
          }
        },
        {
          "output_type": "stream",
          "text": [
            "Saving data_text.csv to data_text.csv\n"
          ],
          "name": "stdout"
        }
      ]
    },
    {
      "metadata": {
        "id": "-ZJpsQ76PlAx",
        "colab_type": "code",
        "colab": {}
      },
      "cell_type": "code",
      "source": [
        "data = pd.read_csv('data_text.csv')"
      ],
      "execution_count": 0,
      "outputs": []
    },
    {
      "metadata": {
        "id": "0m0Yywt3YoXl",
        "colab_type": "code",
        "colab": {}
      },
      "cell_type": "code",
      "source": [
        "def evaluate(true_kws, predicted_kws):\n",
        "    assert len(true_kws) == len(predicted_kws)\n",
        "    \n",
        "    precisions = []\n",
        "    recalls = []\n",
        "    f1s = []\n",
        "    jaccards = []\n",
        "    \n",
        "    for i in range(len(true_kws)):\n",
        "        true_kw = set(true_kws[i])\n",
        "        predicted_kw = set(predicted_kws[i])\n",
        "        \n",
        "        tp = len(true_kw & predicted_kw)\n",
        "        union = len(true_kw | predicted_kw)\n",
        "        fp = len(predicted_kw - true_kw)\n",
        "        fn = len(true_kw - predicted_kw)\n",
        "        \n",
        "        if (tp+fp) == 0:\n",
        "            prec = 0\n",
        "        else:\n",
        "            prec = tp / (tp + fp)\n",
        "        \n",
        "        if (tp+fn) == 0:\n",
        "            rec = 0\n",
        "        else:\n",
        "            rec = tp / (tp + fn)\n",
        "        if (prec+rec) == 0:\n",
        "            f1 = 0\n",
        "        else:\n",
        "            f1 = (2*(prec*rec))/(prec+rec)\n",
        "            \n",
        "        jac = tp / union\n",
        "        \n",
        "        precisions.append(prec)\n",
        "        recalls.append(rec)\n",
        "        f1s.append(f1)\n",
        "        jaccards.append(jac)\n",
        "    print('Precision - ', round(np.mean(precisions), 2))\n",
        "    print('Recall - ', round(np.mean(recalls), 2))\n",
        "    print('F1 - ', round(np.mean(f1s), 2))\n",
        "    print('Jaccard - ', round(np.mean(jaccards), 2))"
      ],
      "execution_count": 0,
      "outputs": []
    },
    {
      "metadata": {
        "id": "P41Q5JnIYoXq",
        "colab_type": "code",
        "colab": {}
      },
      "cell_type": "code",
      "source": [
        "def normalize(text):\n",
        "    \n",
        "    words = [word.strip(punct) for word in text.lower().split()]\n",
        "    words = [morph.parse(word)[0].normal_form for word in words if word and word not in stops]\n",
        "\n",
        "    return ' '.join(words)\n",
        "\n",
        "import re\n",
        "\n",
        "def normalize_kw(text):\n",
        "  \n",
        "    words = re.findall('[а-яА-ЯЁё]+',text)\n",
        "    words = [morph.parse(word)[0].normal_form for word in words if word and word not in stops]\n",
        "\n",
        "    return words"
      ],
      "execution_count": 0,
      "outputs": []
    },
    {
      "metadata": {
        "id": "7VbW9x44YoXu",
        "colab_type": "code",
        "colab": {}
      },
      "cell_type": "code",
      "source": [
        "data['norm_content'] = data.content.apply(normalize)\n",
        "data['norm_kw'] = data.keywords.apply(normalize_kw)"
      ],
      "execution_count": 0,
      "outputs": []
    },
    {
      "metadata": {
        "id": "emnXZS3UYoX_",
        "colab_type": "code",
        "outputId": "7ee85da8-7e6c-4cef-bc82-76ff8f96090d",
        "colab": {
          "base_uri": "https://localhost:8080/",
          "height": 476
        }
      },
      "cell_type": "code",
      "source": [
        "data.head()"
      ],
      "execution_count": 0,
      "outputs": [
        {
          "output_type": "execute_result",
          "data": {
            "text/html": [
              "<div>\n",
              "<style scoped>\n",
              "    .dataframe tbody tr th:only-of-type {\n",
              "        vertical-align: middle;\n",
              "    }\n",
              "\n",
              "    .dataframe tbody tr th {\n",
              "        vertical-align: top;\n",
              "    }\n",
              "\n",
              "    .dataframe thead th {\n",
              "        text-align: right;\n",
              "    }\n",
              "</style>\n",
              "<table border=\"1\" class=\"dataframe\">\n",
              "  <thead>\n",
              "    <tr style=\"text-align: right;\">\n",
              "      <th></th>\n",
              "      <th>Unnamed: 0</th>\n",
              "      <th>content</th>\n",
              "      <th>keywords</th>\n",
              "      <th>summary</th>\n",
              "      <th>title</th>\n",
              "      <th>url</th>\n",
              "      <th>norm_content</th>\n",
              "      <th>norm_kw</th>\n",
              "    </tr>\n",
              "  </thead>\n",
              "  <tbody>\n",
              "    <tr>\n",
              "      <th>0</th>\n",
              "      <td>0</td>\n",
              "      <td>Многие интересуются, зачем нужна «Яблоку» моло...</td>\n",
              "      <td>['яблоко', 'молодежь', 'молодежное яблоко']</td>\n",
              "      <td>NaN</td>\n",
              "      <td>\"Молодежное \"Яблоко\": оппозиционная деятельнос...</td>\n",
              "      <td>http://www.ng.ru/ng_politics/2017-04-18/11_697...</td>\n",
              "      <td>многие интересоваться нужный яблоко молодёжный...</td>\n",
              "      <td>[яблоко, молодёжь, молодёжный, яблоко]</td>\n",
              "    </tr>\n",
              "    <tr>\n",
              "      <th>1</th>\n",
              "      <td>1</td>\n",
              "      <td>Вчера «Газпром» снизил верхнюю планку прогноза...</td>\n",
              "      <td>['газпром', 'газ']</td>\n",
              "      <td>NaN</td>\n",
              "      <td>\"Газпрома\" на всех не хватит</td>\n",
              "      <td>http://www.ng.ru/economics/2008-04-03/1_gazpro...</td>\n",
              "      <td>вчера газпром снизить верхний планка прогноз с...</td>\n",
              "      <td>[газпром, газ]</td>\n",
              "    </tr>\n",
              "    <tr>\n",
              "      <th>2</th>\n",
              "      <td>2</td>\n",
              "      <td>Долголетний труд Евгения Витковского на ниве п...</td>\n",
              "      <td>['франсуа рабле', 'сервантес', 'шекспир', 'кон...</td>\n",
              "      <td>Евгений Витковский о том, как Босх протягивает...</td>\n",
              "      <td>Бесконечная партия в четырехмерные  шахматы</td>\n",
              "      <td>http://www.ng.ru/person/2018-03-22/10_927_vitk...</td>\n",
              "      <td>долголетний труд евгений витковский нива перев...</td>\n",
              "      <td>[франсуа, рабле, сервантес, шекспир, конана, д...</td>\n",
              "    </tr>\n",
              "    <tr>\n",
              "      <th>3</th>\n",
              "      <td>3</td>\n",
              "      <td>В Ленинском районном суде продолжаются слушани...</td>\n",
              "      <td>['владивосток', 'суд', 'ким', 'футина', 'выбор...</td>\n",
              "      <td>Фигурантке уголовного дела о фальсификации выб...</td>\n",
              "      <td>Экс-депутат, осужденная за фальсификацию выбор...</td>\n",
              "      <td>http://www.ng.ru/regions/2018-01-10/100_vladiv...</td>\n",
              "      <td>ленинский районный суд продолжаться слушание д...</td>\n",
              "      <td>[владивосток, суд, ким, футиный, выбор, боевой...</td>\n",
              "    </tr>\n",
              "    <tr>\n",
              "      <th>4</th>\n",
              "      <td>4</td>\n",
              "      <td>В 2012 году российская столица резко увеличила...</td>\n",
              "      <td>['новая москва', 'подмосковье', 'благоустройст...</td>\n",
              "      <td>Лучшие проекты благоустройства общественных пр...</td>\n",
              "      <td>Новая Москва останется территорией экологическ...</td>\n",
              "      <td>http://www.ng.ru/ng_stolitsa/2017-11-10/10_711...</td>\n",
              "      <td>2012 год российский столица резко увеличиться ...</td>\n",
              "      <td>[новый, москва, подмосковье, благоустройство, ...</td>\n",
              "    </tr>\n",
              "  </tbody>\n",
              "</table>\n",
              "</div>"
            ],
            "text/plain": [
              "   Unnamed: 0                                            content  \\\n",
              "0           0  Многие интересуются, зачем нужна «Яблоку» моло...   \n",
              "1           1  Вчера «Газпром» снизил верхнюю планку прогноза...   \n",
              "2           2  Долголетний труд Евгения Витковского на ниве п...   \n",
              "3           3  В Ленинском районном суде продолжаются слушани...   \n",
              "4           4  В 2012 году российская столица резко увеличила...   \n",
              "\n",
              "                                            keywords  \\\n",
              "0        ['яблоко', 'молодежь', 'молодежное яблоко']   \n",
              "1                                 ['газпром', 'газ']   \n",
              "2  ['франсуа рабле', 'сервантес', 'шекспир', 'кон...   \n",
              "3  ['владивосток', 'суд', 'ким', 'футина', 'выбор...   \n",
              "4  ['новая москва', 'подмосковье', 'благоустройст...   \n",
              "\n",
              "                                             summary  \\\n",
              "0                                                NaN   \n",
              "1                                                NaN   \n",
              "2  Евгений Витковский о том, как Босх протягивает...   \n",
              "3  Фигурантке уголовного дела о фальсификации выб...   \n",
              "4  Лучшие проекты благоустройства общественных пр...   \n",
              "\n",
              "                                               title  \\\n",
              "0  \"Молодежное \"Яблоко\": оппозиционная деятельнос...   \n",
              "1                       \"Газпрома\" на всех не хватит   \n",
              "2        Бесконечная партия в четырехмерные  шахматы   \n",
              "3  Экс-депутат, осужденная за фальсификацию выбор...   \n",
              "4  Новая Москва останется территорией экологическ...   \n",
              "\n",
              "                                                 url  \\\n",
              "0  http://www.ng.ru/ng_politics/2017-04-18/11_697...   \n",
              "1  http://www.ng.ru/economics/2008-04-03/1_gazpro...   \n",
              "2  http://www.ng.ru/person/2018-03-22/10_927_vitk...   \n",
              "3  http://www.ng.ru/regions/2018-01-10/100_vladiv...   \n",
              "4  http://www.ng.ru/ng_stolitsa/2017-11-10/10_711...   \n",
              "\n",
              "                                        norm_content  \\\n",
              "0  многие интересоваться нужный яблоко молодёжный...   \n",
              "1  вчера газпром снизить верхний планка прогноз с...   \n",
              "2  долголетний труд евгений витковский нива перев...   \n",
              "3  ленинский районный суд продолжаться слушание д...   \n",
              "4  2012 год российский столица резко увеличиться ...   \n",
              "\n",
              "                                             norm_kw  \n",
              "0             [яблоко, молодёжь, молодёжный, яблоко]  \n",
              "1                                     [газпром, газ]  \n",
              "2  [франсуа, рабле, сервантес, шекспир, конана, д...  \n",
              "3  [владивосток, суд, ким, футиный, выбор, боевой...  \n",
              "4  [новый, москва, подмосковье, благоустройство, ...  "
            ]
          },
          "metadata": {
            "tags": []
          },
          "execution_count": 8
        }
      ]
    },
    {
      "metadata": {
        "id": "3wbk9GmglCoW",
        "colab_type": "text"
      },
      "cell_type": "markdown",
      "source": [
        "Variant #1. Use Rake without/with content normalization and keywords normalization."
      ]
    },
    {
      "metadata": {
        "id": "ziUXnfemlhy5",
        "colab_type": "code",
        "outputId": "07835265-bccb-4128-a6bd-b3a5a948bcbc",
        "colab": {
          "base_uri": "https://localhost:8080/",
          "height": 68
        }
      },
      "cell_type": "code",
      "source": [
        "!pip install rake_nltk"
      ],
      "execution_count": 0,
      "outputs": [
        {
          "output_type": "stream",
          "text": [
            "Requirement already satisfied: rake_nltk in /usr/local/lib/python3.6/dist-packages (1.0.4)\n",
            "Requirement already satisfied: nltk in /usr/local/lib/python3.6/dist-packages (from rake_nltk) (3.2.5)\n",
            "Requirement already satisfied: six in /usr/local/lib/python3.6/dist-packages (from nltk->rake_nltk) (1.11.0)\n"
          ],
          "name": "stdout"
        }
      ]
    },
    {
      "metadata": {
        "id": "7d3OW5CDYoX3",
        "colab_type": "code",
        "colab": {}
      },
      "cell_type": "code",
      "source": [
        "from rake_nltk import Metric, Rake"
      ],
      "execution_count": 0,
      "outputs": []
    },
    {
      "metadata": {
        "id": "tWuT82a7YoYK",
        "colab_type": "code",
        "colab": {}
      },
      "cell_type": "code",
      "source": [
        "def rank(text):\n",
        "    # To use it with a specific language supported by nltk.\n",
        "    r = Rake(language='ru', stopwords=stops,\n",
        "    punctuations=punct, ranking_metric=Metric.DEGREE_TO_FREQUENCY_RATIO, min_length=1, max_length=3)\n",
        "    r.extract_keywords_from_text(text)\n",
        "    kw = r.get_ranked_phrases()\n",
        "    return normalize(' '.join(kw)).split(' ')"
      ],
      "execution_count": 0,
      "outputs": []
    },
    {
      "metadata": {
        "id": "4czaagvxVdB4",
        "colab_type": "code",
        "colab": {}
      },
      "cell_type": "code",
      "source": [
        "data['pred_kw_CONTENT'] = data.content.apply(rank)"
      ],
      "execution_count": 0,
      "outputs": []
    },
    {
      "metadata": {
        "id": "QUavyibum8nG",
        "colab_type": "code",
        "outputId": "320358fd-eae7-422d-a253-1b924709903c",
        "colab": {
          "base_uri": "https://localhost:8080/",
          "height": 85
        }
      },
      "cell_type": "code",
      "source": [
        "evaluate(data['norm_kw'], data['pred_kw_CONTENT'])"
      ],
      "execution_count": 0,
      "outputs": [
        {
          "output_type": "stream",
          "text": [
            "Precision -  0.03\n",
            "Recall -  0.72\n",
            "F1 -  0.05\n",
            "Jaccard -  0.03\n"
          ],
          "name": "stdout"
        }
      ]
    },
    {
      "metadata": {
        "id": "nV55d-QRYoYO",
        "colab_type": "code",
        "outputId": "60dcf277-df70-48c5-8126-3935990bc095",
        "colab": {
          "base_uri": "https://localhost:8080/",
          "height": 85
        }
      },
      "cell_type": "code",
      "source": [
        "data['pred_kw_NORM_CONTENT'] = data.norm_content.apply(rank)\n",
        "evaluate(data['norm_kw'], data['pred_kw_NORM_CONTENT'])"
      ],
      "execution_count": 0,
      "outputs": [
        {
          "output_type": "stream",
          "text": [
            "Precision -  0.04\n",
            "Recall -  0.04\n",
            "F1 -  0.03\n",
            "Jaccard -  0.02\n"
          ],
          "name": "stdout"
        }
      ]
    },
    {
      "metadata": {
        "id": "WMCz_LemVlDK",
        "colab_type": "text"
      },
      "cell_type": "markdown",
      "source": [
        "As the results show, the RAKE works better with unnormalized texts."
      ]
    },
    {
      "metadata": {
        "id": "RPQIek7ImG4g",
        "colab_type": "code",
        "outputId": "c9a11ecd-573d-4ed8-dee3-38553428e251",
        "colab": {
          "base_uri": "https://localhost:8080/",
          "height": 581
        }
      },
      "cell_type": "code",
      "source": [
        "data.head()"
      ],
      "execution_count": 0,
      "outputs": [
        {
          "output_type": "execute_result",
          "data": {
            "text/html": [
              "<div>\n",
              "<style scoped>\n",
              "    .dataframe tbody tr th:only-of-type {\n",
              "        vertical-align: middle;\n",
              "    }\n",
              "\n",
              "    .dataframe tbody tr th {\n",
              "        vertical-align: top;\n",
              "    }\n",
              "\n",
              "    .dataframe thead th {\n",
              "        text-align: right;\n",
              "    }\n",
              "</style>\n",
              "<table border=\"1\" class=\"dataframe\">\n",
              "  <thead>\n",
              "    <tr style=\"text-align: right;\">\n",
              "      <th></th>\n",
              "      <th>Unnamed: 0</th>\n",
              "      <th>content</th>\n",
              "      <th>keywords</th>\n",
              "      <th>summary</th>\n",
              "      <th>title</th>\n",
              "      <th>url</th>\n",
              "      <th>norm_content</th>\n",
              "      <th>norm_kw</th>\n",
              "      <th>pred_kw_CONTENT</th>\n",
              "      <th>pred_kw_NORM_CONTENT</th>\n",
              "    </tr>\n",
              "  </thead>\n",
              "  <tbody>\n",
              "    <tr>\n",
              "      <th>0</th>\n",
              "      <td>0</td>\n",
              "      <td>Многие интересуются, зачем нужна «Яблоку» моло...</td>\n",
              "      <td>['яблоко', 'молодежь', 'молодежное яблоко']</td>\n",
              "      <td>NaN</td>\n",
              "      <td>\"Молодежное \"Яблоко\": оппозиционная деятельнос...</td>\n",
              "      <td>http://www.ng.ru/ng_politics/2017-04-18/11_697...</td>\n",
              "      <td>многие интересоваться нужный яблоко молодёжный...</td>\n",
              "      <td>[яблоко, молодёжь, молодёжный, яблоко]</td>\n",
              "      <td>[терять, целый, год, существовать, высокий, за...</td>\n",
              "      <td>[]</td>\n",
              "    </tr>\n",
              "    <tr>\n",
              "      <th>1</th>\n",
              "      <td>1</td>\n",
              "      <td>Вчера «Газпром» снизил верхнюю планку прогноза...</td>\n",
              "      <td>['газпром', 'газ']</td>\n",
              "      <td>NaN</td>\n",
              "      <td>\"Газпрома\" на всех не хватит</td>\n",
              "      <td>http://www.ng.ru/economics/2008-04-03/1_gazpro...</td>\n",
              "      <td>вчера газпром снизить верхний планка прогноз с...</td>\n",
              "      <td>[газпром, газ]</td>\n",
              "      <td>[это, следовать, добавить, шельф, баренцев, мо...</td>\n",
              "      <td>[вр, новатэк]</td>\n",
              "    </tr>\n",
              "    <tr>\n",
              "      <th>2</th>\n",
              "      <td>2</td>\n",
              "      <td>Долголетний труд Евгения Витковского на ниве п...</td>\n",
              "      <td>['франсуа рабле', 'сервантес', 'шекспир', 'кон...</td>\n",
              "      <td>Евгений Витковский о том, как Босх протягивает...</td>\n",
              "      <td>Бесконечная партия в четырехмерные  шахматы</td>\n",
              "      <td>http://www.ng.ru/person/2018-03-22/10_927_vitk...</td>\n",
              "      <td>долголетний труд евгений витковский нива перев...</td>\n",
              "      <td>[франсуа, рабле, сервантес, шекспир, конана, д...</td>\n",
              "      <td>[являться, главное, редактор, часто, бессмысле...</td>\n",
              "      <td>[гильдия, похоже, говорить, 4, месяц, лично, р...</td>\n",
              "    </tr>\n",
              "    <tr>\n",
              "      <th>3</th>\n",
              "      <td>3</td>\n",
              "      <td>В Ленинском районном суде продолжаются слушани...</td>\n",
              "      <td>['владивосток', 'суд', 'ким', 'футина', 'выбор...</td>\n",
              "      <td>Фигурантке уголовного дела о фальсификации выб...</td>\n",
              "      <td>Экс-депутат, осужденная за фальсификацию выбор...</td>\n",
              "      <td>http://www.ng.ru/regions/2018-01-10/100_vladiv...</td>\n",
              "      <td>ленинский районный суд продолжаться слушание д...</td>\n",
              "      <td>[владивосток, суд, ким, футиный, выбор, боевой...</td>\n",
              "      <td>[хотя, прежде, защитник, фальсификация, избира...</td>\n",
              "      <td>[летие, мчс, многие]</td>\n",
              "    </tr>\n",
              "    <tr>\n",
              "      <th>4</th>\n",
              "      <td>4</td>\n",
              "      <td>В 2012 году российская столица резко увеличила...</td>\n",
              "      <td>['новая москва', 'подмосковье', 'благоустройст...</td>\n",
              "      <td>Лучшие проекты благоустройства общественных пр...</td>\n",
              "      <td>Новая Москва останется территорией экологическ...</td>\n",
              "      <td>http://www.ng.ru/ng_stolitsa/2017-11-10/10_711...</td>\n",
              "      <td>2012 год российский столица резко увеличиться ...</td>\n",
              "      <td>[новый, москва, подмосковье, благоустройство, ...</td>\n",
              "      <td>[фон, такой, гигант, установить, водоохранный,...</td>\n",
              "      <td>[гигант, спортивно]</td>\n",
              "    </tr>\n",
              "  </tbody>\n",
              "</table>\n",
              "</div>"
            ],
            "text/plain": [
              "   Unnamed: 0                                            content  \\\n",
              "0           0  Многие интересуются, зачем нужна «Яблоку» моло...   \n",
              "1           1  Вчера «Газпром» снизил верхнюю планку прогноза...   \n",
              "2           2  Долголетний труд Евгения Витковского на ниве п...   \n",
              "3           3  В Ленинском районном суде продолжаются слушани...   \n",
              "4           4  В 2012 году российская столица резко увеличила...   \n",
              "\n",
              "                                            keywords  \\\n",
              "0        ['яблоко', 'молодежь', 'молодежное яблоко']   \n",
              "1                                 ['газпром', 'газ']   \n",
              "2  ['франсуа рабле', 'сервантес', 'шекспир', 'кон...   \n",
              "3  ['владивосток', 'суд', 'ким', 'футина', 'выбор...   \n",
              "4  ['новая москва', 'подмосковье', 'благоустройст...   \n",
              "\n",
              "                                             summary  \\\n",
              "0                                                NaN   \n",
              "1                                                NaN   \n",
              "2  Евгений Витковский о том, как Босх протягивает...   \n",
              "3  Фигурантке уголовного дела о фальсификации выб...   \n",
              "4  Лучшие проекты благоустройства общественных пр...   \n",
              "\n",
              "                                               title  \\\n",
              "0  \"Молодежное \"Яблоко\": оппозиционная деятельнос...   \n",
              "1                       \"Газпрома\" на всех не хватит   \n",
              "2        Бесконечная партия в четырехмерные  шахматы   \n",
              "3  Экс-депутат, осужденная за фальсификацию выбор...   \n",
              "4  Новая Москва останется территорией экологическ...   \n",
              "\n",
              "                                                 url  \\\n",
              "0  http://www.ng.ru/ng_politics/2017-04-18/11_697...   \n",
              "1  http://www.ng.ru/economics/2008-04-03/1_gazpro...   \n",
              "2  http://www.ng.ru/person/2018-03-22/10_927_vitk...   \n",
              "3  http://www.ng.ru/regions/2018-01-10/100_vladiv...   \n",
              "4  http://www.ng.ru/ng_stolitsa/2017-11-10/10_711...   \n",
              "\n",
              "                                        norm_content  \\\n",
              "0  многие интересоваться нужный яблоко молодёжный...   \n",
              "1  вчера газпром снизить верхний планка прогноз с...   \n",
              "2  долголетний труд евгений витковский нива перев...   \n",
              "3  ленинский районный суд продолжаться слушание д...   \n",
              "4  2012 год российский столица резко увеличиться ...   \n",
              "\n",
              "                                             norm_kw  \\\n",
              "0             [яблоко, молодёжь, молодёжный, яблоко]   \n",
              "1                                     [газпром, газ]   \n",
              "2  [франсуа, рабле, сервантес, шекспир, конана, д...   \n",
              "3  [владивосток, суд, ким, футиный, выбор, боевой...   \n",
              "4  [новый, москва, подмосковье, благоустройство, ...   \n",
              "\n",
              "                                     pred_kw_CONTENT  \\\n",
              "0  [терять, целый, год, существовать, высокий, за...   \n",
              "1  [это, следовать, добавить, шельф, баренцев, мо...   \n",
              "2  [являться, главное, редактор, часто, бессмысле...   \n",
              "3  [хотя, прежде, защитник, фальсификация, избира...   \n",
              "4  [фон, такой, гигант, установить, водоохранный,...   \n",
              "\n",
              "                                pred_kw_NORM_CONTENT  \n",
              "0                                                 []  \n",
              "1                                      [вр, новатэк]  \n",
              "2  [гильдия, похоже, говорить, 4, месяц, лично, р...  \n",
              "3                               [летие, мчс, многие]  \n",
              "4                                [гигант, спортивно]  "
            ]
          },
          "metadata": {
            "tags": []
          },
          "execution_count": 100
        }
      ]
    },
    {
      "metadata": {
        "id": "lP4v-N2XnpH_",
        "colab_type": "text"
      },
      "cell_type": "markdown",
      "source": [
        "Variant #2. Package  YAKE (https://pypi.org/project/yake/)"
      ]
    },
    {
      "metadata": {
        "id": "o2iVJndOoTYg",
        "colab_type": "code",
        "outputId": "a581c0e0-f71e-485e-bc07-211c7c291e56",
        "colab": {
          "base_uri": "https://localhost:8080/",
          "height": 289
        }
      },
      "cell_type": "code",
      "source": [
        "!pip install yake"
      ],
      "execution_count": 0,
      "outputs": [
        {
          "output_type": "stream",
          "text": [
            "Requirement already satisfied: yake in /usr/local/lib/python3.6/dist-packages (0.3.7)\n",
            "Requirement already satisfied: segtok in /usr/local/lib/python3.6/dist-packages (from yake) (1.5.7)\n",
            "Requirement already satisfied: jellyfish in /usr/local/lib/python3.6/dist-packages (from yake) (0.7.1)\n",
            "Requirement already satisfied: scipy in /usr/local/lib/python3.6/dist-packages (from yake) (1.1.0)\n",
            "Requirement already satisfied: fire in /usr/local/lib/python3.6/dist-packages (from yake) (0.1.3)\n",
            "Requirement already satisfied: Click>=6.0 in /usr/local/lib/python3.6/dist-packages (from yake) (7.0)\n",
            "Requirement already satisfied: unidecode>=0.4.19 in /usr/local/lib/python3.6/dist-packages (from yake) (1.0.23)\n",
            "Requirement already satisfied: nltk>=3.1 in /usr/local/lib/python3.6/dist-packages (from yake) (3.2.5)\n",
            "Requirement already satisfied: networkx in /usr/local/lib/python3.6/dist-packages (from yake) (2.2)\n",
            "Requirement already satisfied: numpy in /usr/local/lib/python3.6/dist-packages (from yake) (1.14.6)\n",
            "Requirement already satisfied: pandas in /usr/local/lib/python3.6/dist-packages (from yake) (0.22.0)\n",
            "Requirement already satisfied: regex in /usr/local/lib/python3.6/dist-packages (from segtok->yake) (2018.1.10)\n",
            "Requirement already satisfied: six in /usr/local/lib/python3.6/dist-packages (from fire->yake) (1.11.0)\n",
            "Requirement already satisfied: decorator>=4.3.0 in /usr/local/lib/python3.6/dist-packages (from networkx->yake) (4.3.0)\n",
            "Requirement already satisfied: python-dateutil>=2 in /usr/local/lib/python3.6/dist-packages (from pandas->yake) (2.5.3)\n",
            "Requirement already satisfied: pytz>=2011k in /usr/local/lib/python3.6/dist-packages (from pandas->yake) (2018.9)\n"
          ],
          "name": "stdout"
        }
      ]
    },
    {
      "metadata": {
        "id": "OcxVAkSeYoYY",
        "colab_type": "code",
        "colab": {}
      },
      "cell_type": "code",
      "source": [
        "import yake"
      ],
      "execution_count": 0,
      "outputs": []
    },
    {
      "metadata": {
        "id": "jqo3gtA7YoYd",
        "colab_type": "code",
        "colab": {}
      },
      "cell_type": "code",
      "source": [
        "import numpy as np\n",
        "def yake_extractor(text):\n",
        "  simple_kwextractor = yake.KeywordExtractor(lan=\"ru\", n=1, dedupLim=0.8, windowsSize=2, top=20)\n",
        "  scores = simple_kwextractor.extract_keywords(text)\n",
        "  return [i for j,i in scores]\n",
        "\n",
        "data['yake_CONTENT'] = data.content.apply(yake_extractor)"
      ],
      "execution_count": 0,
      "outputs": []
    },
    {
      "metadata": {
        "id": "P18or3ONpyC-",
        "colab_type": "code",
        "outputId": "1c69c75b-f7ed-4606-fe79-893e9df6d880",
        "colab": {
          "base_uri": "https://localhost:8080/",
          "height": 85
        }
      },
      "cell_type": "code",
      "source": [
        "evaluate(data.norm_kw, data.yake_CONTENT)"
      ],
      "execution_count": 0,
      "outputs": [
        {
          "output_type": "stream",
          "text": [
            "Precision -  0.05\n",
            "Recall -  0.18\n",
            "F1 -  0.08\n",
            "Jaccard -  0.04\n"
          ],
          "name": "stdout"
        }
      ]
    },
    {
      "metadata": {
        "id": "b5PieMMzp6bP",
        "colab_type": "code",
        "colab": {}
      },
      "cell_type": "code",
      "source": [
        "data['yake_CONTENT_NORM'] = data.norm_content.apply(yake_extractor)"
      ],
      "execution_count": 0,
      "outputs": []
    },
    {
      "metadata": {
        "id": "qZ-ckGNjqk-h",
        "colab_type": "code",
        "outputId": "51ee2261-d536-4007-a53e-0b6f73f6f1a3",
        "colab": {
          "base_uri": "https://localhost:8080/",
          "height": 85
        }
      },
      "cell_type": "code",
      "source": [
        "evaluate(data.norm_kw, data.yake_CONTENT_NORM)"
      ],
      "execution_count": 0,
      "outputs": [
        {
          "output_type": "stream",
          "text": [
            "Precision -  0.14\n",
            "Recall -  0.44\n",
            "F1 -  0.2\n",
            "Jaccard -  0.12\n"
          ],
          "name": "stdout"
        }
      ]
    },
    {
      "metadata": {
        "id": "WP5zUTzpWR6t",
        "colab_type": "text"
      },
      "cell_type": "markdown",
      "source": [
        "Yake KW extractor works better witn normalized texts and shows a great result. I use it with some parameters, which are proposed by the authors of model on  the package home page."
      ]
    },
    {
      "metadata": {
        "id": "2gdeBibMrTc1",
        "colab_type": "code",
        "colab": {}
      },
      "cell_type": "code",
      "source": [
        "def yake_extractor_tag(text):\n",
        "  simple_kwextractor = yake.KeywordExtractor(lan=\"ru\", n=1, dedupLim=0.8, windowsSize=2, top=20)\n",
        "  scores = simple_kwextractor.extract_keywords(text)\n",
        "  words = [i for j,i in scores]\n",
        "  words = [morph.parse(word)[0].normal_form for word in words if morph.parse(word)[0].tag.POS in [\"NOUN\", 'ADJF', 'ADJS']]\n",
        "  \n",
        "  return words"
      ],
      "execution_count": 0,
      "outputs": []
    },
    {
      "metadata": {
        "id": "VWYMNCZQrx5W",
        "colab_type": "code",
        "colab": {}
      },
      "cell_type": "code",
      "source": [
        "data['yake_CONTENT_NORM_TAG'] = data.norm_content.apply(yake_extractor_tag)"
      ],
      "execution_count": 0,
      "outputs": []
    },
    {
      "metadata": {
        "id": "Z7KyDoI6r_JE",
        "colab_type": "code",
        "outputId": "b2eafb5e-c7e6-4ba7-ab0f-04ab4037bb73",
        "colab": {
          "base_uri": "https://localhost:8080/",
          "height": 85
        }
      },
      "cell_type": "code",
      "source": [
        "evaluate(data.norm_kw, data.yake_CONTENT_NORM_TAG)"
      ],
      "execution_count": 0,
      "outputs": [
        {
          "output_type": "stream",
          "text": [
            "Precision -  0.16\n",
            "Recall -  0.43\n",
            "F1 -  0.22\n",
            "Jaccard -  0.13\n"
          ],
          "name": "stdout"
        }
      ]
    },
    {
      "metadata": {
        "id": "eBa4DMUMXjT4",
        "colab_type": "text"
      },
      "cell_type": "markdown",
      "source": [
        "This result is achived by using normalization for yake kw results, also output of model are filtred by tags. Only noun and adj didn't deleted."
      ]
    },
    {
      "metadata": {
        "id": "HPy5wCGNset_",
        "colab_type": "code",
        "colab": {}
      },
      "cell_type": "code",
      "source": [
        "def normalize_tag(text):\n",
        "    \n",
        "    words = [word.strip(punct) for word in text.lower().split()]\n",
        "    words = [word for word in words if word and word not in stops]\n",
        "    words = [morph.parse(word)[0].normal_form for word in words if morph.parse(word)[0].tag.POS in [\"NOUN\", 'ADJF', 'ADJS']]\n",
        "\n",
        "    return ' '.join(words)"
      ],
      "execution_count": 0,
      "outputs": []
    },
    {
      "metadata": {
        "id": "haxGNeGos2Y6",
        "colab_type": "code",
        "colab": {}
      },
      "cell_type": "code",
      "source": [
        "data['content_norm_tag'] = data.content.apply(normalize_tag)"
      ],
      "execution_count": 0,
      "outputs": []
    },
    {
      "metadata": {
        "id": "dw0WLUiatMqg",
        "colab_type": "code",
        "colab": {}
      },
      "cell_type": "code",
      "source": [
        "data['yake_CONTENT_NORM_tagged_TAG'] = data.content_norm_tag.apply(yake_extractor_tag)"
      ],
      "execution_count": 0,
      "outputs": []
    },
    {
      "metadata": {
        "id": "cimEPGrVtEz4",
        "colab_type": "code",
        "outputId": "0d629a25-010b-45ac-8a28-e099ae730bfe",
        "colab": {
          "base_uri": "https://localhost:8080/",
          "height": 85
        }
      },
      "cell_type": "code",
      "source": [
        "evaluate(data.norm_kw, data.yake_CONTENT_NORM_tagged_TAG)"
      ],
      "execution_count": 0,
      "outputs": [
        {
          "output_type": "stream",
          "text": [
            "Precision -  0.14\n",
            "Recall -  0.46\n",
            "F1 -  0.21\n",
            "Jaccard -  0.12\n"
          ],
          "name": "stdout"
        }
      ]
    },
    {
      "metadata": {
        "id": "Ah79SyXIXxtE",
        "colab_type": "text"
      },
      "cell_type": "markdown",
      "source": [
        "If we use normalized texts, which contane only nouns and adjs for training yake, F1 of the result decreases. "
      ]
    },
    {
      "metadata": {
        "id": "sa7oSKN-p6jK",
        "colab_type": "code",
        "outputId": "bf9ceac4-ed1e-4898-dfc8-b2f891b65acc",
        "colab": {
          "base_uri": "https://localhost:8080/",
          "height": 598
        }
      },
      "cell_type": "code",
      "source": [
        "data.head()"
      ],
      "execution_count": 0,
      "outputs": [
        {
          "output_type": "execute_result",
          "data": {
            "text/html": [
              "<div>\n",
              "<style scoped>\n",
              "    .dataframe tbody tr th:only-of-type {\n",
              "        vertical-align: middle;\n",
              "    }\n",
              "\n",
              "    .dataframe tbody tr th {\n",
              "        vertical-align: top;\n",
              "    }\n",
              "\n",
              "    .dataframe thead th {\n",
              "        text-align: right;\n",
              "    }\n",
              "</style>\n",
              "<table border=\"1\" class=\"dataframe\">\n",
              "  <thead>\n",
              "    <tr style=\"text-align: right;\">\n",
              "      <th></th>\n",
              "      <th>Unnamed: 0</th>\n",
              "      <th>content</th>\n",
              "      <th>keywords</th>\n",
              "      <th>summary</th>\n",
              "      <th>title</th>\n",
              "      <th>url</th>\n",
              "      <th>norm_content</th>\n",
              "      <th>norm_kw</th>\n",
              "      <th>pred_kw_CONTENT</th>\n",
              "      <th>pred_kw_NORM_CONTENT</th>\n",
              "      <th>yake_CONTENT</th>\n",
              "      <th>yake_CONTENT_NORM</th>\n",
              "      <th>yake_CONTENT_NORM_TAG</th>\n",
              "      <th>content_norm_tag</th>\n",
              "      <th>yake_CONTENT_NORM_tagged_TAG</th>\n",
              "    </tr>\n",
              "  </thead>\n",
              "  <tbody>\n",
              "    <tr>\n",
              "      <th>0</th>\n",
              "      <td>0</td>\n",
              "      <td>Многие интересуются, зачем нужна «Яблоку» моло...</td>\n",
              "      <td>['яблоко', 'молодежь', 'молодежное яблоко']</td>\n",
              "      <td>NaN</td>\n",
              "      <td>\"Молодежное \"Яблоко\": оппозиционная деятельнос...</td>\n",
              "      <td>http://www.ng.ru/ng_politics/2017-04-18/11_697...</td>\n",
              "      <td>многие интересоваться нужный яблоко молодёжный...</td>\n",
              "      <td>[яблоко, молодёжь, молодёжный, яблоко]</td>\n",
              "      <td>[терять, целый, год, существовать, высокий, за...</td>\n",
              "      <td>[]</td>\n",
              "      <td>[яблоко, молодежное, акции, россии, фракция, н...</td>\n",
              "      <td>[яблоко, молодёжный, акция, активист, проводит...</td>\n",
              "      <td>[яблоко, молодёжный, акция, активист, московск...</td>\n",
              "      <td>нужный яблоко молодёжный фракция основной зада...</td>\n",
              "      <td>[яблоко, молодёжный, акция, активист, московск...</td>\n",
              "    </tr>\n",
              "    <tr>\n",
              "      <th>1</th>\n",
              "      <td>1</td>\n",
              "      <td>Вчера «Газпром» снизил верхнюю планку прогноза...</td>\n",
              "      <td>['газпром', 'газ']</td>\n",
              "      <td>NaN</td>\n",
              "      <td>\"Газпрома\" на всех не хватит</td>\n",
              "      <td>http://www.ng.ru/economics/2008-04-03/1_gazpro...</td>\n",
              "      <td>вчера газпром снизить верхний планка прогноз с...</td>\n",
              "      <td>[газпром, газ]</td>\n",
              "      <td>[это, следовать, добавить, шельф, баренцев, мо...</td>\n",
              "      <td>[вр, новатэк]</td>\n",
              "      <td>[куб, млрд., газа, газпром, россии, куб., стра...</td>\n",
              "      <td>[куб, миллиард, метр, газа, добыча, газпром, н...</td>\n",
              "      <td>[куб, миллиард, метр, газа, добыча, газпром, н...</td>\n",
              "      <td>газпром верхний планка прогноз собственный доб...</td>\n",
              "      <td>[метр, миллиард, куб, газа, газпром, добыча, д...</td>\n",
              "    </tr>\n",
              "    <tr>\n",
              "      <th>2</th>\n",
              "      <td>2</td>\n",
              "      <td>Долголетний труд Евгения Витковского на ниве п...</td>\n",
              "      <td>['франсуа рабле', 'сервантес', 'шекспир', 'кон...</td>\n",
              "      <td>Евгений Витковский о том, как Босх протягивает...</td>\n",
              "      <td>Бесконечная партия в четырехмерные  шахматы</td>\n",
              "      <td>http://www.ng.ru/person/2018-03-22/10_927_vitk...</td>\n",
              "      <td>долголетний труд евгений витковский нива перев...</td>\n",
              "      <td>[франсуа, рабле, сервантес, шекспир, конана, д...</td>\n",
              "      <td>[являться, главное, редактор, часто, бессмысле...</td>\n",
              "      <td>[гильдия, похоже, говорить, 4, месяц, лично, р...</td>\n",
              "      <td>[евгения, витковского, поэзии, москвы, роман, ...</td>\n",
              "      <td>[книга, роман, писать, век, поэзия, выйти, стр...</td>\n",
              "      <td>[книга, роман, поэзия, страница, стихотворение...</td>\n",
              "      <td>долголетний труд евгений витковский нива перев...</td>\n",
              "      <td>[книга, роман, мир, поэзия, москва, страница, ...</td>\n",
              "    </tr>\n",
              "    <tr>\n",
              "      <th>3</th>\n",
              "      <td>3</td>\n",
              "      <td>В Ленинском районном суде продолжаются слушани...</td>\n",
              "      <td>['владивосток', 'суд', 'ким', 'футина', 'выбор...</td>\n",
              "      <td>Фигурантке уголовного дела о фальсификации выб...</td>\n",
              "      <td>Экс-депутат, осужденная за фальсификацию выбор...</td>\n",
              "      <td>http://www.ng.ru/regions/2018-01-10/100_vladiv...</td>\n",
              "      <td>ленинский районный суд продолжаться слушание д...</td>\n",
              "      <td>[владивосток, суд, ким, футиный, выбор, боевой...</td>\n",
              "      <td>[хотя, прежде, защитник, фальсификация, избира...</td>\n",
              "      <td>[летие, мчс, многие]</td>\n",
              "      <td>[ким, ленинском, думы, владивостока, выборах, ...</td>\n",
              "      <td>[ким, зинаида, футиный, рубль, видео, журналис...</td>\n",
              "      <td>[ким, зинаида, футиный, рубль, видео, журналис...</td>\n",
              "      <td>ленинский районный суд слушание дело экс-депут...</td>\n",
              "      <td>[ким, зинаида, видео, журналист, футиный, рубл...</td>\n",
              "    </tr>\n",
              "    <tr>\n",
              "      <th>4</th>\n",
              "      <td>4</td>\n",
              "      <td>В 2012 году российская столица резко увеличила...</td>\n",
              "      <td>['новая москва', 'подмосковье', 'благоустройст...</td>\n",
              "      <td>Лучшие проекты благоустройства общественных пр...</td>\n",
              "      <td>Новая Москва останется территорией экологическ...</td>\n",
              "      <td>http://www.ng.ru/ng_stolitsa/2017-11-10/10_711...</td>\n",
              "      <td>2012 год российский столица резко увеличиться ...</td>\n",
              "      <td>[новый, москва, подмосковье, благоустройство, ...</td>\n",
              "      <td>[фон, такой, гигант, установить, водоохранный,...</td>\n",
              "      <td>[гигант, спортивно]</td>\n",
              "      <td>[москвы, новой, московской, тинао, парк, площа...</td>\n",
              "      <td>[новый, москва, площадь, территория, парк, раз...</td>\n",
              "      <td>[новый, москва, площадь, территория, парк, раз...</td>\n",
              "      <td>год российский столица размер результат присое...</td>\n",
              "      <td>[новый, площадь, москва, территория, развитие,...</td>\n",
              "    </tr>\n",
              "  </tbody>\n",
              "</table>\n",
              "</div>"
            ],
            "text/plain": [
              "   Unnamed: 0                                            content  \\\n",
              "0           0  Многие интересуются, зачем нужна «Яблоку» моло...   \n",
              "1           1  Вчера «Газпром» снизил верхнюю планку прогноза...   \n",
              "2           2  Долголетний труд Евгения Витковского на ниве п...   \n",
              "3           3  В Ленинском районном суде продолжаются слушани...   \n",
              "4           4  В 2012 году российская столица резко увеличила...   \n",
              "\n",
              "                                            keywords  \\\n",
              "0        ['яблоко', 'молодежь', 'молодежное яблоко']   \n",
              "1                                 ['газпром', 'газ']   \n",
              "2  ['франсуа рабле', 'сервантес', 'шекспир', 'кон...   \n",
              "3  ['владивосток', 'суд', 'ким', 'футина', 'выбор...   \n",
              "4  ['новая москва', 'подмосковье', 'благоустройст...   \n",
              "\n",
              "                                             summary  \\\n",
              "0                                                NaN   \n",
              "1                                                NaN   \n",
              "2  Евгений Витковский о том, как Босх протягивает...   \n",
              "3  Фигурантке уголовного дела о фальсификации выб...   \n",
              "4  Лучшие проекты благоустройства общественных пр...   \n",
              "\n",
              "                                               title  \\\n",
              "0  \"Молодежное \"Яблоко\": оппозиционная деятельнос...   \n",
              "1                       \"Газпрома\" на всех не хватит   \n",
              "2        Бесконечная партия в четырехмерные  шахматы   \n",
              "3  Экс-депутат, осужденная за фальсификацию выбор...   \n",
              "4  Новая Москва останется территорией экологическ...   \n",
              "\n",
              "                                                 url  \\\n",
              "0  http://www.ng.ru/ng_politics/2017-04-18/11_697...   \n",
              "1  http://www.ng.ru/economics/2008-04-03/1_gazpro...   \n",
              "2  http://www.ng.ru/person/2018-03-22/10_927_vitk...   \n",
              "3  http://www.ng.ru/regions/2018-01-10/100_vladiv...   \n",
              "4  http://www.ng.ru/ng_stolitsa/2017-11-10/10_711...   \n",
              "\n",
              "                                        norm_content  \\\n",
              "0  многие интересоваться нужный яблоко молодёжный...   \n",
              "1  вчера газпром снизить верхний планка прогноз с...   \n",
              "2  долголетний труд евгений витковский нива перев...   \n",
              "3  ленинский районный суд продолжаться слушание д...   \n",
              "4  2012 год российский столица резко увеличиться ...   \n",
              "\n",
              "                                             norm_kw  \\\n",
              "0             [яблоко, молодёжь, молодёжный, яблоко]   \n",
              "1                                     [газпром, газ]   \n",
              "2  [франсуа, рабле, сервантес, шекспир, конана, д...   \n",
              "3  [владивосток, суд, ким, футиный, выбор, боевой...   \n",
              "4  [новый, москва, подмосковье, благоустройство, ...   \n",
              "\n",
              "                                     pred_kw_CONTENT  \\\n",
              "0  [терять, целый, год, существовать, высокий, за...   \n",
              "1  [это, следовать, добавить, шельф, баренцев, мо...   \n",
              "2  [являться, главное, редактор, часто, бессмысле...   \n",
              "3  [хотя, прежде, защитник, фальсификация, избира...   \n",
              "4  [фон, такой, гигант, установить, водоохранный,...   \n",
              "\n",
              "                                pred_kw_NORM_CONTENT  \\\n",
              "0                                                 []   \n",
              "1                                      [вр, новатэк]   \n",
              "2  [гильдия, похоже, говорить, 4, месяц, лично, р...   \n",
              "3                               [летие, мчс, многие]   \n",
              "4                                [гигант, спортивно]   \n",
              "\n",
              "                                        yake_CONTENT  \\\n",
              "0  [яблоко, молодежное, акции, россии, фракция, н...   \n",
              "1  [куб, млрд., газа, газпром, россии, куб., стра...   \n",
              "2  [евгения, витковского, поэзии, москвы, роман, ...   \n",
              "3  [ким, ленинском, думы, владивостока, выборах, ...   \n",
              "4  [москвы, новой, московской, тинао, парк, площа...   \n",
              "\n",
              "                                   yake_CONTENT_NORM  \\\n",
              "0  [яблоко, молодёжный, акция, активист, проводит...   \n",
              "1  [куб, миллиард, метр, газа, добыча, газпром, н...   \n",
              "2  [книга, роман, писать, век, поэзия, выйти, стр...   \n",
              "3  [ким, зинаида, футиный, рубль, видео, журналис...   \n",
              "4  [новый, москва, площадь, территория, парк, раз...   \n",
              "\n",
              "                               yake_CONTENT_NORM_TAG  \\\n",
              "0  [яблоко, молодёжный, акция, активист, московск...   \n",
              "1  [куб, миллиард, метр, газа, добыча, газпром, н...   \n",
              "2  [книга, роман, поэзия, страница, стихотворение...   \n",
              "3  [ким, зинаида, футиный, рубль, видео, журналис...   \n",
              "4  [новый, москва, площадь, территория, парк, раз...   \n",
              "\n",
              "                                    content_norm_tag  \\\n",
              "0  нужный яблоко молодёжный фракция основной зада...   \n",
              "1  газпром верхний планка прогноз собственный доб...   \n",
              "2  долголетний труд евгений витковский нива перев...   \n",
              "3  ленинский районный суд слушание дело экс-депут...   \n",
              "4  год российский столица размер результат присое...   \n",
              "\n",
              "                        yake_CONTENT_NORM_tagged_TAG  \n",
              "0  [яблоко, молодёжный, акция, активист, московск...  \n",
              "1  [метр, миллиард, куб, газа, газпром, добыча, д...  \n",
              "2  [книга, роман, мир, поэзия, москва, страница, ...  \n",
              "3  [ким, зинаида, видео, журналист, футиный, рубл...  \n",
              "4  [новый, площадь, москва, территория, развитие,...  "
            ]
          },
          "metadata": {
            "tags": []
          },
          "execution_count": 121
        }
      ]
    },
    {
      "metadata": {
        "id": "Bf8cNEJMo02X",
        "colab_type": "text"
      },
      "cell_type": "markdown",
      "source": [
        "Variant #3. TF-IDF"
      ]
    },
    {
      "metadata": {
        "id": "jD83tLuxYoYi",
        "colab_type": "code",
        "outputId": "48bc524e-2de4-4014-feb8-3d0428125c2b",
        "colab": {
          "base_uri": "https://localhost:8080/",
          "height": 34
        }
      },
      "cell_type": "code",
      "source": [
        "tfidf = TfidfVectorizer(ngram_range=(1,2), min_df=5)\n",
        "tfidf.fit(data['norm_content'])\n",
        "texts_vectors = tfidf.transform(data['norm_content'])\n",
        "id2word = {i:word for i,word in enumerate(tfidf.get_feature_names())}\n",
        "keywords = [[id2word[w] for w in top] for top in texts_vectors.toarray().argsort()[:,:-11:-1]] \n",
        "print(len(keywords))\n",
        "data['title_norm'] = data.title.apply(normalize_tag)"
      ],
      "execution_count": 0,
      "outputs": [
        {
          "output_type": "stream",
          "text": [
            "999\n"
          ],
          "name": "stdout"
        }
      ]
    },
    {
      "metadata": {
        "id": "IxxZb8amyn4h",
        "colab_type": "code",
        "colab": {}
      },
      "cell_type": "code",
      "source": [
        "data['kw_tfidf_title'] = keywords\n",
        "data['kw_tfidf_title'] = data['kw_tfidf_title']+data['title_norm'].apply(lambda x: x.split())"
      ],
      "execution_count": 0,
      "outputs": []
    },
    {
      "metadata": {
        "id": "PO_gxeAdzOw9",
        "colab_type": "code",
        "outputId": "86b6b777-af63-4832-a52e-e7714fbc30a7",
        "colab": {
          "base_uri": "https://localhost:8080/",
          "height": 119
        }
      },
      "cell_type": "code",
      "source": [
        "data.kw_tfidf_title.head()"
      ],
      "execution_count": 0,
      "outputs": [
        {
          "output_type": "execute_result",
          "data": {
            "text/plain": [
              "0    [яблоко, молодёжный, активист, акция, дарья, д...\n",
              "1    [миллиард куб, куб метр, куб, газпром, газа, м...\n",
              "2    [роман, книга, писать, жанр, издать, стихотвор...\n",
              "3    [ким, зинаида, видео, экспертиза, свидетель, л...\n",
              "4    [га, площадь, парковый, парка, парк, территори...\n",
              "Name: kw_tfidf_title, dtype: object"
            ]
          },
          "metadata": {
            "tags": []
          },
          "execution_count": 158
        }
      ]
    },
    {
      "metadata": {
        "id": "FI1AgQth1UX4",
        "colab_type": "code",
        "colab": {}
      },
      "cell_type": "code",
      "source": [
        "def clear_kw(words):\n",
        "  #for word in words:\n",
        "    #print(morph.parse(word)[0].tag.POS)\n",
        "  words = [morph.parse(word)[0].normal_form for word in words if morph.parse(word)[0].tag.POS in [\"NOUN\", 'ADJF', 'ADJS']]\n",
        "  return words\n",
        "data.kw_tfidf_title = data.kw_tfidf_title.apply(clear_kw)"
      ],
      "execution_count": 0,
      "outputs": []
    },
    {
      "metadata": {
        "id": "-RAX_P6U0Ptf",
        "colab_type": "code",
        "outputId": "233039ac-c164-49c9-ab0f-85d0dd6c272e",
        "colab": {
          "base_uri": "https://localhost:8080/",
          "height": 85
        }
      },
      "cell_type": "code",
      "source": [
        "evaluate(data.norm_kw, data.kw_tfidf_title)"
      ],
      "execution_count": 0,
      "outputs": [
        {
          "output_type": "stream",
          "text": [
            "Precision -  0.2\n",
            "Recall -  0.39\n",
            "F1 -  0.25\n",
            "Jaccard -  0.15\n"
          ],
          "name": "stdout"
        }
      ]
    },
    {
      "metadata": {
        "id": "kX_iOpmLZFSB",
        "colab_type": "text"
      },
      "cell_type": "markdown",
      "source": [
        "Usage of tf-idf  kws with normalized title (filtered also by tags) can shows the above-presented result."
      ]
    },
    {
      "metadata": {
        "id": "i5dKs7Fe5O9i",
        "colab_type": "text"
      },
      "cell_type": "markdown",
      "source": [
        "Variant #4. Embeddings"
      ]
    },
    {
      "metadata": {
        "id": "olOsd9_u5R19",
        "colab_type": "code",
        "colab": {}
      },
      "cell_type": "code",
      "source": [
        "text_data = ''\n",
        "for i in data.content.tolist():\n",
        "    text_data+=i\n",
        "    text_data+=' '\n",
        "text_data = text_data.replace('\\n', '. ')\n",
        "text_data = text_data.replace('.. ', '. ')"
      ],
      "execution_count": 0,
      "outputs": []
    },
    {
      "metadata": {
        "id": "XNJ4-C3L5ckm",
        "colab_type": "code",
        "colab": {}
      },
      "cell_type": "code",
      "source": [
        "def norm_for_emb(text):\n",
        "    \n",
        "    words = [word.strip(punct) for word in text.lower().split()]\n",
        "    words = [morph.parse(word)[0].normal_form for word in words if word and word not in stops]\n",
        "\n",
        "    return words"
      ],
      "execution_count": 0,
      "outputs": []
    },
    {
      "metadata": {
        "id": "T_6JhaXP46iV",
        "colab_type": "code",
        "outputId": "c5181a13-d60b-4f1c-ebb2-2ed4819ecccd",
        "colab": {
          "base_uri": "https://localhost:8080/",
          "height": 51
        }
      },
      "cell_type": "code",
      "source": [
        "from nltk.tokenize import sent_tokenize\n",
        "import nltk\n",
        "nltk.download('punkt')\n",
        "\n",
        "sent_tokenize_list = sent_tokenize(text_data)\n",
        "clear_sents=[]\n",
        "for i in sent_tokenize_list:\n",
        "    clear_sent = []\n",
        "    clear_sent = norm_for_emb(i)\n",
        "    clear_sents.append(clear_sent)"
      ],
      "execution_count": 0,
      "outputs": [
        {
          "output_type": "stream",
          "text": [
            "[nltk_data] Downloading package punkt to /root/nltk_data...\n",
            "[nltk_data]   Package punkt is already up-to-date!\n"
          ],
          "name": "stdout"
        }
      ]
    },
    {
      "metadata": {
        "id": "HXr8h3Ii0axW",
        "colab_type": "code",
        "outputId": "3df1dc8a-1940-41d6-cddf-cd7f7ebc45eb",
        "colab": {
          "base_uri": "https://localhost:8080/",
          "height": 343
        }
      },
      "cell_type": "code",
      "source": [
        "!pip install gensim"
      ],
      "execution_count": 0,
      "outputs": [
        {
          "output_type": "stream",
          "text": [
            "Requirement already satisfied: gensim in /usr/local/lib/python3.6/dist-packages (3.6.0)\n",
            "Requirement already satisfied: smart-open>=1.2.1 in /usr/local/lib/python3.6/dist-packages (from gensim) (1.7.1)\n",
            "Requirement already satisfied: six>=1.5.0 in /usr/local/lib/python3.6/dist-packages (from gensim) (1.11.0)\n",
            "Requirement already satisfied: scipy>=0.18.1 in /usr/local/lib/python3.6/dist-packages (from gensim) (1.1.0)\n",
            "Requirement already satisfied: numpy>=1.11.3 in /usr/local/lib/python3.6/dist-packages (from gensim) (1.14.6)\n",
            "Requirement already satisfied: boto>=2.32 in /usr/local/lib/python3.6/dist-packages (from smart-open>=1.2.1->gensim) (2.49.0)\n",
            "Requirement already satisfied: bz2file in /usr/local/lib/python3.6/dist-packages (from smart-open>=1.2.1->gensim) (0.98)\n",
            "Requirement already satisfied: requests in /usr/local/lib/python3.6/dist-packages (from smart-open>=1.2.1->gensim) (2.18.4)\n",
            "Requirement already satisfied: boto3 in /usr/local/lib/python3.6/dist-packages (from smart-open>=1.2.1->gensim) (1.9.78)\n",
            "Requirement already satisfied: chardet<3.1.0,>=3.0.2 in /usr/local/lib/python3.6/dist-packages (from requests->smart-open>=1.2.1->gensim) (3.0.4)\n",
            "Requirement already satisfied: urllib3<1.23,>=1.21.1 in /usr/local/lib/python3.6/dist-packages (from requests->smart-open>=1.2.1->gensim) (1.22)\n",
            "Requirement already satisfied: certifi>=2017.4.17 in /usr/local/lib/python3.6/dist-packages (from requests->smart-open>=1.2.1->gensim) (2018.11.29)\n",
            "Requirement already satisfied: idna<2.7,>=2.5 in /usr/local/lib/python3.6/dist-packages (from requests->smart-open>=1.2.1->gensim) (2.6)\n",
            "Requirement already satisfied: s3transfer<0.2.0,>=0.1.10 in /usr/local/lib/python3.6/dist-packages (from boto3->smart-open>=1.2.1->gensim) (0.1.13)\n",
            "Requirement already satisfied: jmespath<1.0.0,>=0.7.1 in /usr/local/lib/python3.6/dist-packages (from boto3->smart-open>=1.2.1->gensim) (0.9.3)\n",
            "Requirement already satisfied: botocore<1.13.0,>=1.12.78 in /usr/local/lib/python3.6/dist-packages (from boto3->smart-open>=1.2.1->gensim) (1.12.78)\n",
            "Requirement already satisfied: docutils>=0.10 in /usr/local/lib/python3.6/dist-packages (from botocore<1.13.0,>=1.12.78->boto3->smart-open>=1.2.1->gensim) (0.14)\n",
            "Requirement already satisfied: python-dateutil<3.0.0,>=2.1; python_version >= \"2.7\" in /usr/local/lib/python3.6/dist-packages (from botocore<1.13.0,>=1.12.78->boto3->smart-open>=1.2.1->gensim) (2.5.3)\n"
          ],
          "name": "stdout"
        }
      ]
    },
    {
      "metadata": {
        "id": "9J3ZWuz255M8",
        "colab_type": "code",
        "colab": {}
      },
      "cell_type": "code",
      "source": [
        "import gensim\n",
        "simple_model = gensim.models.FastText(clear_sents, size=300, window=5,\n",
        "                                      min_count=1, workers=2)"
      ],
      "execution_count": 0,
      "outputs": []
    },
    {
      "metadata": {
        "id": "UGmFc3R46CZu",
        "colab_type": "code",
        "colab": {}
      },
      "cell_type": "code",
      "source": [
        "def yake_extractor_tag_80(text):\n",
        "  simple_kwextractor = yake.KeywordExtractor(lan=\"ru\", n=1, dedupLim=0.8, windowsSize=2, top=80)\n",
        "  scores = simple_kwextractor.extract_keywords(text)\n",
        "  words = [i for j,i in scores]\n",
        "  words = [morph.parse(word)[0].normal_form for word in words if morph.parse(word)[0].tag.POS in [\"NOUN\", 'ADJF', 'ADJS']]\n",
        "  return words\n",
        "\n",
        "data['yake_CONTENT_NORM_TAG_80'] = data.norm_content.apply(yake_extractor_tag_80)"
      ],
      "execution_count": 0,
      "outputs": []
    },
    {
      "metadata": {
        "id": "8pnPc3S7Z-pM",
        "colab_type": "text"
      },
      "cell_type": "markdown",
      "source": [
        "Extract first 80 unigrams from normalised texts. The result words are also normalized and filterd by tags."
      ]
    },
    {
      "metadata": {
        "id": "oVVfRQpy8efx",
        "colab_type": "code",
        "outputId": "134cce7d-6b19-4457-ed15-35fd3e0ab6d3",
        "colab": {
          "base_uri": "https://localhost:8080/",
          "height": 85
        }
      },
      "cell_type": "code",
      "source": [
        "sets = list(zip(data.kw_tfidf_title.tolist(), data.yake_CONTENT_NORM_TAG_80.tolist()))\n",
        "sets = [list(set(i).intersection(set(j))) for i, j in sets ]\n",
        "data['intesection_tf_yark'] = pd.Series(sets)\n",
        "evaluate(data.norm_kw, data['intesection_tf_yark'])"
      ],
      "execution_count": 0,
      "outputs": [
        {
          "output_type": "stream",
          "text": [
            "Precision -  0.24\n",
            "Recall -  0.36\n",
            "F1 -  0.27\n",
            "Jaccard -  0.17\n"
          ],
          "name": "stdout"
        }
      ]
    },
    {
      "metadata": {
        "id": "NDSlla-0aeL5",
        "colab_type": "text"
      },
      "cell_type": "markdown",
      "source": [
        "Intersection of key words from tf-idf+title and Yake - 80 can make our model better."
      ]
    },
    {
      "metadata": {
        "id": "Q_FaMKnm-Ln-",
        "colab_type": "code",
        "outputId": "7d9d4f64-f4a8-4d82-bd4f-6ed8350c0e59",
        "colab": {
          "base_uri": "https://localhost:8080/",
          "height": 105
        }
      },
      "cell_type": "code",
      "source": [
        "from scipy.spatial.distance import cosine\n",
        "#example = data.yake_CONTENT_NORM_TAG_80[0]\n",
        "def smth(example):\n",
        "  word2ind = {word : simple_model[word] for word in example}\n",
        "  ind2word = {tuple(i):j for j,i in word2ind.items()}\n",
        "  vecs = [simple_model[word] for word in example]\n",
        "  mean_dists = []\n",
        "  median_dists = []\n",
        "\n",
        "  for in1,vec1 in enumerate(vecs):\n",
        "      distances = []\n",
        "      for in2,vec2 in enumerate(vecs):\n",
        "        if in1!=in2:\n",
        "          distances.append((ind2word[tuple(vec2)],cosine(vec1,vec2)))\n",
        "      distances = sorted(distances, key=lambda tup: tup[1])\n",
        "\n",
        "      #print(ind2word[tuple(vec1)], distances)\n",
        "      #print('################################################')\n",
        "      mean_dists.append((ind2word[tuple(vec1)], np.mean(np.array([i for j, i in distances])), distances))\n",
        "      median_dists.append((ind2word[tuple(vec1)], np.median(np.array([i for j, i in distances])), distances ))\n",
        "\n",
        "  sorted_mean_dists = sorted(mean_dists, key=lambda tup: tup[1])\n",
        "  sorted_median_dists = sorted(median_dists, key=lambda tup: tup[1])\n",
        "\n",
        "  s = 0\n",
        "  resss = []\n",
        "  while s<=15 and s<len(sorted_median_dists):\n",
        "    info = sorted_median_dists[s]\n",
        "    #print(info)\n",
        "    f = 0 \n",
        "    while f<=5:\n",
        "      res=[]\n",
        "      #print(info[2][f][0])\n",
        "      res.append(info[2][f][0])\n",
        "      f+=1\n",
        "    resss.extend(res)\n",
        "    s+=1\n",
        "  return list(set(resss))\n",
        "\n",
        "data['emb_kw'] = data.yake_CONTENT_NORM_TAG_80.apply(smth)"
      ],
      "execution_count": 0,
      "outputs": [
        {
          "output_type": "stream",
          "text": [
            "/usr/local/lib/python3.6/dist-packages/ipykernel_launcher.py:4: DeprecationWarning: Call to deprecated `__getitem__` (Method will be removed in 4.0.0, use self.wv.__getitem__() instead).\n",
            "  after removing the cwd from sys.path.\n",
            "/usr/local/lib/python3.6/dist-packages/ipykernel_launcher.py:6: DeprecationWarning: Call to deprecated `__getitem__` (Method will be removed in 4.0.0, use self.wv.__getitem__() instead).\n",
            "  \n"
          ],
          "name": "stderr"
        }
      ]
    },
    {
      "metadata": {
        "id": "3QewQY5QKdTH",
        "colab_type": "code",
        "outputId": "039281ec-7cc9-47e3-d3a3-c7986002a7cd",
        "colab": {
          "base_uri": "https://localhost:8080/",
          "height": 85
        }
      },
      "cell_type": "code",
      "source": [
        "evaluate(data.norm_kw, data.emb_kw)"
      ],
      "execution_count": 0,
      "outputs": [
        {
          "output_type": "stream",
          "text": [
            "Precision -  0.09\n",
            "Recall -  0.16\n",
            "F1 -  0.11\n",
            "Jaccard -  0.06\n"
          ],
          "name": "stdout"
        }
      ]
    },
    {
      "metadata": {
        "id": "Pi0DMGCRa--7",
        "colab_type": "text"
      },
      "cell_type": "markdown",
      "source": [
        "Using yake 80 key words unigrams I tried to find some clasters according to the cosine  simularity and get more central terms from them. But it doesn't work."
      ]
    },
    {
      "metadata": {
        "id": "0tLKuSqVNOLG",
        "colab_type": "code",
        "outputId": "c61f231c-a3a3-43b5-bb46-d3f49acef1bd",
        "colab": {
          "base_uri": "https://localhost:8080/",
          "height": 85
        }
      },
      "cell_type": "code",
      "source": [
        "data['intesection_tf_yark_emb'] = data.intesection_tf_yark+data.emb_kw\n",
        "evaluate(data.norm_kw, data['intesection_tf_yark_emb'])"
      ],
      "execution_count": 0,
      "outputs": [
        {
          "output_type": "stream",
          "text": [
            "Precision -  0.14\n",
            "Recall -  0.42\n",
            "F1 -  0.2\n",
            "Jaccard -  0.12\n"
          ],
          "name": "stdout"
        }
      ]
    },
    {
      "metadata": {
        "id": "TP_giCombmhM",
        "colab_type": "text"
      },
      "cell_type": "markdown",
      "source": [
        "Intersection of tf-idf, yake-80 and embeddings doesn't increase the presison of our model."
      ]
    },
    {
      "metadata": {
        "id": "6fdi2sa46t_8",
        "colab_type": "code",
        "outputId": "2db1ba4d-be31-4715-e421-a95f7303ba40",
        "colab": {
          "base_uri": "https://localhost:8080/",
          "height": 598
        }
      },
      "cell_type": "code",
      "source": [
        "data = data.drop(['content_split', 'content_vec'], axis = 1)\n",
        "data.head()"
      ],
      "execution_count": 0,
      "outputs": [
        {
          "output_type": "execute_result",
          "data": {
            "text/html": [
              "<div>\n",
              "<style scoped>\n",
              "    .dataframe tbody tr th:only-of-type {\n",
              "        vertical-align: middle;\n",
              "    }\n",
              "\n",
              "    .dataframe tbody tr th {\n",
              "        vertical-align: top;\n",
              "    }\n",
              "\n",
              "    .dataframe thead th {\n",
              "        text-align: right;\n",
              "    }\n",
              "</style>\n",
              "<table border=\"1\" class=\"dataframe\">\n",
              "  <thead>\n",
              "    <tr style=\"text-align: right;\">\n",
              "      <th></th>\n",
              "      <th>Unnamed: 0</th>\n",
              "      <th>content</th>\n",
              "      <th>keywords</th>\n",
              "      <th>summary</th>\n",
              "      <th>title</th>\n",
              "      <th>url</th>\n",
              "      <th>norm_content</th>\n",
              "      <th>norm_kw</th>\n",
              "      <th>pred_kw_CONTENT</th>\n",
              "      <th>pred_kw_NORM_CONTENT</th>\n",
              "      <th>yake_CONTENT</th>\n",
              "      <th>yake_CONTENT_NORM</th>\n",
              "      <th>yake_CONTENT_NORM_TAG</th>\n",
              "      <th>content_norm_tag</th>\n",
              "      <th>yake_CONTENT_NORM_tagged_TAG</th>\n",
              "      <th>title_norm</th>\n",
              "      <th>kw_tfidf_title</th>\n",
              "      <th>yake_CONTENT_NORM_TAG_80</th>\n",
              "    </tr>\n",
              "  </thead>\n",
              "  <tbody>\n",
              "    <tr>\n",
              "      <th>0</th>\n",
              "      <td>0</td>\n",
              "      <td>Многие интересуются, зачем нужна «Яблоку» моло...</td>\n",
              "      <td>['яблоко', 'молодежь', 'молодежное яблоко']</td>\n",
              "      <td>NaN</td>\n",
              "      <td>\"Молодежное \"Яблоко\": оппозиционная деятельнос...</td>\n",
              "      <td>http://www.ng.ru/ng_politics/2017-04-18/11_697...</td>\n",
              "      <td>многие интересоваться нужный яблоко молодёжный...</td>\n",
              "      <td>[яблоко, молодёжь, молодёжный, яблоко]</td>\n",
              "      <td>[терять, целый, год, существовать, высокий, за...</td>\n",
              "      <td>[]</td>\n",
              "      <td>[яблоко, молодежное, акции, россии, фракция, н...</td>\n",
              "      <td>[яблоко, молодёжный, акция, активист, проводит...</td>\n",
              "      <td>[яблоко, молодёжный, акция, активист, московск...</td>\n",
              "      <td>нужный яблоко молодёжный фракция основной зада...</td>\n",
              "      <td>[яблоко, молодёжный, акция, активист, московск...</td>\n",
              "      <td>молодёжный яблоко оппозиционный деятельность о...</td>\n",
              "      <td>[яблоко, молодёжный, активист, акция, дарья, д...</td>\n",
              "      <td>[яблоко, молодёжный, акция, активист, московск...</td>\n",
              "    </tr>\n",
              "    <tr>\n",
              "      <th>1</th>\n",
              "      <td>1</td>\n",
              "      <td>Вчера «Газпром» снизил верхнюю планку прогноза...</td>\n",
              "      <td>['газпром', 'газ']</td>\n",
              "      <td>NaN</td>\n",
              "      <td>\"Газпрома\" на всех не хватит</td>\n",
              "      <td>http://www.ng.ru/economics/2008-04-03/1_gazpro...</td>\n",
              "      <td>вчера газпром снизить верхний планка прогноз с...</td>\n",
              "      <td>[газпром, газ]</td>\n",
              "      <td>[это, следовать, добавить, шельф, баренцев, мо...</td>\n",
              "      <td>[вр, новатэк]</td>\n",
              "      <td>[куб, млрд., газа, газпром, россии, куб., стра...</td>\n",
              "      <td>[куб, миллиард, метр, газа, добыча, газпром, н...</td>\n",
              "      <td>[куб, миллиард, метр, газа, добыча, газпром, н...</td>\n",
              "      <td>газпром верхний планка прогноз собственный доб...</td>\n",
              "      <td>[метр, миллиард, куб, газа, газпром, добыча, д...</td>\n",
              "      <td>газпром</td>\n",
              "      <td>[миллиард куб, куб метр, куб, газпром, газа, м...</td>\n",
              "      <td>[куб, миллиард, метр, газа, добыча, газпром, н...</td>\n",
              "    </tr>\n",
              "    <tr>\n",
              "      <th>2</th>\n",
              "      <td>2</td>\n",
              "      <td>Долголетний труд Евгения Витковского на ниве п...</td>\n",
              "      <td>['франсуа рабле', 'сервантес', 'шекспир', 'кон...</td>\n",
              "      <td>Евгений Витковский о том, как Босх протягивает...</td>\n",
              "      <td>Бесконечная партия в четырехмерные  шахматы</td>\n",
              "      <td>http://www.ng.ru/person/2018-03-22/10_927_vitk...</td>\n",
              "      <td>долголетний труд евгений витковский нива перев...</td>\n",
              "      <td>[франсуа, рабле, сервантес, шекспир, конана, д...</td>\n",
              "      <td>[являться, главное, редактор, часто, бессмысле...</td>\n",
              "      <td>[гильдия, похоже, говорить, 4, месяц, лично, р...</td>\n",
              "      <td>[евгения, витковского, поэзии, москвы, роман, ...</td>\n",
              "      <td>[книга, роман, писать, век, поэзия, выйти, стр...</td>\n",
              "      <td>[книга, роман, поэзия, страница, стихотворение...</td>\n",
              "      <td>долголетний труд евгений витковский нива перев...</td>\n",
              "      <td>[книга, роман, мир, поэзия, москва, страница, ...</td>\n",
              "      <td>бесконечный партия четырехмерный шахматы</td>\n",
              "      <td>[роман, книга, жанр, стихотворение, перевод, ч...</td>\n",
              "      <td>[книга, роман, поэзия, страница, стихотворение...</td>\n",
              "    </tr>\n",
              "    <tr>\n",
              "      <th>3</th>\n",
              "      <td>3</td>\n",
              "      <td>В Ленинском районном суде продолжаются слушани...</td>\n",
              "      <td>['владивосток', 'суд', 'ким', 'футина', 'выбор...</td>\n",
              "      <td>Фигурантке уголовного дела о фальсификации выб...</td>\n",
              "      <td>Экс-депутат, осужденная за фальсификацию выбор...</td>\n",
              "      <td>http://www.ng.ru/regions/2018-01-10/100_vladiv...</td>\n",
              "      <td>ленинский районный суд продолжаться слушание д...</td>\n",
              "      <td>[владивосток, суд, ким, футиный, выбор, боевой...</td>\n",
              "      <td>[хотя, прежде, защитник, фальсификация, избира...</td>\n",
              "      <td>[летие, мчс, многие]</td>\n",
              "      <td>[ким, ленинском, думы, владивостока, выборах, ...</td>\n",
              "      <td>[ким, зинаида, футиный, рубль, видео, журналис...</td>\n",
              "      <td>[ким, зинаида, футиный, рубль, видео, журналис...</td>\n",
              "      <td>ленинский районный суд слушание дело экс-депут...</td>\n",
              "      <td>[ким, зинаида, видео, журналист, футиный, рубл...</td>\n",
              "      <td>экс-депутат фальсификация выбор член боевой бр...</td>\n",
              "      <td>[ким, зинаида, видео, экспертиза, свидетель, л...</td>\n",
              "      <td>[ким, зинаида, футиный, рубль, видео, журналис...</td>\n",
              "    </tr>\n",
              "    <tr>\n",
              "      <th>4</th>\n",
              "      <td>4</td>\n",
              "      <td>В 2012 году российская столица резко увеличила...</td>\n",
              "      <td>['новая москва', 'подмосковье', 'благоустройст...</td>\n",
              "      <td>Лучшие проекты благоустройства общественных пр...</td>\n",
              "      <td>Новая Москва останется территорией экологическ...</td>\n",
              "      <td>http://www.ng.ru/ng_stolitsa/2017-11-10/10_711...</td>\n",
              "      <td>2012 год российский столица резко увеличиться ...</td>\n",
              "      <td>[новый, москва, подмосковье, благоустройство, ...</td>\n",
              "      <td>[фон, такой, гигант, установить, водоохранный,...</td>\n",
              "      <td>[гигант, спортивно]</td>\n",
              "      <td>[москвы, новой, московской, тинао, парк, площа...</td>\n",
              "      <td>[новый, москва, площадь, территория, парк, раз...</td>\n",
              "      <td>[новый, москва, площадь, территория, парк, раз...</td>\n",
              "      <td>год российский столица размер результат присое...</td>\n",
              "      <td>[новый, площадь, москва, территория, развитие,...</td>\n",
              "      <td>новый москва территория экологический безопасн...</td>\n",
              "      <td>[га, площадь, парковый, парк, парк, территория...</td>\n",
              "      <td>[новый, москва, площадь, территория, парк, раз...</td>\n",
              "    </tr>\n",
              "  </tbody>\n",
              "</table>\n",
              "</div>"
            ],
            "text/plain": [
              "   Unnamed: 0                                            content  \\\n",
              "0           0  Многие интересуются, зачем нужна «Яблоку» моло...   \n",
              "1           1  Вчера «Газпром» снизил верхнюю планку прогноза...   \n",
              "2           2  Долголетний труд Евгения Витковского на ниве п...   \n",
              "3           3  В Ленинском районном суде продолжаются слушани...   \n",
              "4           4  В 2012 году российская столица резко увеличила...   \n",
              "\n",
              "                                            keywords  \\\n",
              "0        ['яблоко', 'молодежь', 'молодежное яблоко']   \n",
              "1                                 ['газпром', 'газ']   \n",
              "2  ['франсуа рабле', 'сервантес', 'шекспир', 'кон...   \n",
              "3  ['владивосток', 'суд', 'ким', 'футина', 'выбор...   \n",
              "4  ['новая москва', 'подмосковье', 'благоустройст...   \n",
              "\n",
              "                                             summary  \\\n",
              "0                                                NaN   \n",
              "1                                                NaN   \n",
              "2  Евгений Витковский о том, как Босх протягивает...   \n",
              "3  Фигурантке уголовного дела о фальсификации выб...   \n",
              "4  Лучшие проекты благоустройства общественных пр...   \n",
              "\n",
              "                                               title  \\\n",
              "0  \"Молодежное \"Яблоко\": оппозиционная деятельнос...   \n",
              "1                       \"Газпрома\" на всех не хватит   \n",
              "2        Бесконечная партия в четырехмерные  шахматы   \n",
              "3  Экс-депутат, осужденная за фальсификацию выбор...   \n",
              "4  Новая Москва останется территорией экологическ...   \n",
              "\n",
              "                                                 url  \\\n",
              "0  http://www.ng.ru/ng_politics/2017-04-18/11_697...   \n",
              "1  http://www.ng.ru/economics/2008-04-03/1_gazpro...   \n",
              "2  http://www.ng.ru/person/2018-03-22/10_927_vitk...   \n",
              "3  http://www.ng.ru/regions/2018-01-10/100_vladiv...   \n",
              "4  http://www.ng.ru/ng_stolitsa/2017-11-10/10_711...   \n",
              "\n",
              "                                        norm_content  \\\n",
              "0  многие интересоваться нужный яблоко молодёжный...   \n",
              "1  вчера газпром снизить верхний планка прогноз с...   \n",
              "2  долголетний труд евгений витковский нива перев...   \n",
              "3  ленинский районный суд продолжаться слушание д...   \n",
              "4  2012 год российский столица резко увеличиться ...   \n",
              "\n",
              "                                             norm_kw  \\\n",
              "0             [яблоко, молодёжь, молодёжный, яблоко]   \n",
              "1                                     [газпром, газ]   \n",
              "2  [франсуа, рабле, сервантес, шекспир, конана, д...   \n",
              "3  [владивосток, суд, ким, футиный, выбор, боевой...   \n",
              "4  [новый, москва, подмосковье, благоустройство, ...   \n",
              "\n",
              "                                     pred_kw_CONTENT  \\\n",
              "0  [терять, целый, год, существовать, высокий, за...   \n",
              "1  [это, следовать, добавить, шельф, баренцев, мо...   \n",
              "2  [являться, главное, редактор, часто, бессмысле...   \n",
              "3  [хотя, прежде, защитник, фальсификация, избира...   \n",
              "4  [фон, такой, гигант, установить, водоохранный,...   \n",
              "\n",
              "                                pred_kw_NORM_CONTENT  \\\n",
              "0                                                 []   \n",
              "1                                      [вр, новатэк]   \n",
              "2  [гильдия, похоже, говорить, 4, месяц, лично, р...   \n",
              "3                               [летие, мчс, многие]   \n",
              "4                                [гигант, спортивно]   \n",
              "\n",
              "                                        yake_CONTENT  \\\n",
              "0  [яблоко, молодежное, акции, россии, фракция, н...   \n",
              "1  [куб, млрд., газа, газпром, россии, куб., стра...   \n",
              "2  [евгения, витковского, поэзии, москвы, роман, ...   \n",
              "3  [ким, ленинском, думы, владивостока, выборах, ...   \n",
              "4  [москвы, новой, московской, тинао, парк, площа...   \n",
              "\n",
              "                                   yake_CONTENT_NORM  \\\n",
              "0  [яблоко, молодёжный, акция, активист, проводит...   \n",
              "1  [куб, миллиард, метр, газа, добыча, газпром, н...   \n",
              "2  [книга, роман, писать, век, поэзия, выйти, стр...   \n",
              "3  [ким, зинаида, футиный, рубль, видео, журналис...   \n",
              "4  [новый, москва, площадь, территория, парк, раз...   \n",
              "\n",
              "                               yake_CONTENT_NORM_TAG  \\\n",
              "0  [яблоко, молодёжный, акция, активист, московск...   \n",
              "1  [куб, миллиард, метр, газа, добыча, газпром, н...   \n",
              "2  [книга, роман, поэзия, страница, стихотворение...   \n",
              "3  [ким, зинаида, футиный, рубль, видео, журналис...   \n",
              "4  [новый, москва, площадь, территория, парк, раз...   \n",
              "\n",
              "                                    content_norm_tag  \\\n",
              "0  нужный яблоко молодёжный фракция основной зада...   \n",
              "1  газпром верхний планка прогноз собственный доб...   \n",
              "2  долголетний труд евгений витковский нива перев...   \n",
              "3  ленинский районный суд слушание дело экс-депут...   \n",
              "4  год российский столица размер результат присое...   \n",
              "\n",
              "                        yake_CONTENT_NORM_tagged_TAG  \\\n",
              "0  [яблоко, молодёжный, акция, активист, московск...   \n",
              "1  [метр, миллиард, куб, газа, газпром, добыча, д...   \n",
              "2  [книга, роман, мир, поэзия, москва, страница, ...   \n",
              "3  [ким, зинаида, видео, журналист, футиный, рубл...   \n",
              "4  [новый, площадь, москва, территория, развитие,...   \n",
              "\n",
              "                                          title_norm  \\\n",
              "0  молодёжный яблоко оппозиционный деятельность о...   \n",
              "1                                            газпром   \n",
              "2           бесконечный партия четырехмерный шахматы   \n",
              "3  экс-депутат фальсификация выбор член боевой бр...   \n",
              "4  новый москва территория экологический безопасн...   \n",
              "\n",
              "                                      kw_tfidf_title  \\\n",
              "0  [яблоко, молодёжный, активист, акция, дарья, д...   \n",
              "1  [миллиард куб, куб метр, куб, газпром, газа, м...   \n",
              "2  [роман, книга, жанр, стихотворение, перевод, ч...   \n",
              "3  [ким, зинаида, видео, экспертиза, свидетель, л...   \n",
              "4  [га, площадь, парковый, парк, парк, территория...   \n",
              "\n",
              "                            yake_CONTENT_NORM_TAG_80  \n",
              "0  [яблоко, молодёжный, акция, активист, московск...  \n",
              "1  [куб, миллиард, метр, газа, добыча, газпром, н...  \n",
              "2  [книга, роман, поэзия, страница, стихотворение...  \n",
              "3  [ким, зинаида, футиный, рубль, видео, журналис...  \n",
              "4  [новый, москва, площадь, территория, парк, раз...  "
            ]
          },
          "metadata": {
            "tags": []
          },
          "execution_count": 173
        }
      ]
    },
    {
      "metadata": {
        "id": "vswpMNnNTsTJ",
        "colab_type": "code",
        "colab": {}
      },
      "cell_type": "code",
      "source": [
        ""
      ],
      "execution_count": 0,
      "outputs": []
    }
  ]
}