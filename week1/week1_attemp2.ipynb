{
 "cells": [
  {
   "cell_type": "code",
   "execution_count": 1,
   "metadata": {},
   "outputs": [],
   "source": [
    "import json, os\n",
    "import pandas as pd\n",
    "from nltk.corpus import stopwords\n",
    "import numpy as np\n",
    "from pymorphy2 import MorphAnalyzer\n",
    "from collections import Counter\n",
    "from sklearn.feature_extraction.text import TfidfVectorizer\n",
    "morph = MorphAnalyzer()\n",
    "stops = set(stopwords.words('russian'))\n",
    "from string import punctuation\n",
    "from nltk.corpus import stopwords\n",
    "punct = punctuation+'«»—…“”*№–'\n",
    "stops = set(stopwords.words('russian'))"
   ]
  },
  {
   "cell_type": "code",
   "execution_count": 2,
   "metadata": {},
   "outputs": [],
   "source": [
    "PATH_TO_DATA = '../ru_kw_eval_datasets-master/data'\n",
    "files = [os.path.join(PATH_TO_DATA, file) for file in os.listdir(PATH_TO_DATA)]\n",
    "data = pd.concat([pd.read_json(file, lines=True) for file in files][:1], axis=0, ignore_index=True)"
   ]
  },
  {
   "cell_type": "code",
   "execution_count": 85,
   "metadata": {},
   "outputs": [],
   "source": [
    "data.to_csv('data_text.csv')"
   ]
  },
  {
   "cell_type": "code",
   "execution_count": 3,
   "metadata": {},
   "outputs": [],
   "source": [
    "def evaluate(true_kws, predicted_kws):\n",
    "    assert len(true_kws) == len(predicted_kws)\n",
    "    \n",
    "    precisions = []\n",
    "    recalls = []\n",
    "    f1s = []\n",
    "    jaccards = []\n",
    "    \n",
    "    for i in range(len(true_kws)):\n",
    "        true_kw = set(true_kws[i])\n",
    "        predicted_kw = set(predicted_kws[i])\n",
    "        \n",
    "        tp = len(true_kw & predicted_kw)\n",
    "        union = len(true_kw | predicted_kw)\n",
    "        fp = len(predicted_kw - true_kw)\n",
    "        fn = len(true_kw - predicted_kw)\n",
    "        \n",
    "        if (tp+fp) == 0:\n",
    "            prec = 0\n",
    "        else:\n",
    "            prec = tp / (tp + fp)\n",
    "        \n",
    "        if (tp+fn) == 0:\n",
    "            rec = 0\n",
    "        else:\n",
    "            rec = tp / (tp + fn)\n",
    "        if (prec+rec) == 0:\n",
    "            f1 = 0\n",
    "        else:\n",
    "            f1 = (2*(prec*rec))/(prec+rec)\n",
    "            \n",
    "        jac = tp / union\n",
    "        \n",
    "        precisions.append(prec)\n",
    "        recalls.append(rec)\n",
    "        f1s.append(f1)\n",
    "        jaccards.append(jac)\n",
    "    print('Precision - ', round(np.mean(precisions), 2))\n",
    "    print('Recall - ', round(np.mean(recalls), 2))\n",
    "    print('F1 - ', round(np.mean(f1s), 2))\n",
    "    print('Jaccard - ', round(np.mean(jaccards), 2))"
   ]
  },
  {
   "cell_type": "code",
   "execution_count": 4,
   "metadata": {},
   "outputs": [],
   "source": [
    "from string import punctuation\n",
    "from nltk.corpus import stopwords\n",
    "punct = punctuation+'«»—…“”*№–'\n",
    "stops = set(stopwords.words('russian'))\n",
    "\n",
    "def normalize(text):\n",
    "    \n",
    "    words = [word.strip(punct) for word in text.lower().split()]\n",
    "    words = [morph.parse(word)[0].normal_form for word in words if word and word not in stops]\n",
    "\n",
    "    return words\n",
    "\n",
    "def normalize_kw(text):\n",
    "    text = ' '.join(text)\n",
    "    words = [word.strip(punct) for word in text.lower().split()]\n",
    "    words = [morph.parse(word)[0].normal_form for word in words if word and word not in stops]\n",
    "\n",
    "    return words"
   ]
  },
  {
   "cell_type": "code",
   "execution_count": 5,
   "metadata": {},
   "outputs": [],
   "source": [
    "data['norm_content'] = data.content.apply(normalize)\n",
    "data['norm_kw'] = data.keywords.apply(normalize_kw)"
   ]
  },
  {
   "cell_type": "code",
   "execution_count": 7,
   "metadata": {},
   "outputs": [],
   "source": [
    "data['norm_content'] = data.norm_content.apply(lambda x:' '.join(x))"
   ]
  },
  {
   "cell_type": "code",
   "execution_count": 50,
   "metadata": {},
   "outputs": [],
   "source": [
    "from rake_nltk import Metric, Rake"
   ]
  },
  {
   "cell_type": "code",
   "execution_count": 6,
   "metadata": {},
   "outputs": [
    {
     "data": {
      "text/html": [
       "<div>\n",
       "<style scoped>\n",
       "    .dataframe tbody tr th:only-of-type {\n",
       "        vertical-align: middle;\n",
       "    }\n",
       "\n",
       "    .dataframe tbody tr th {\n",
       "        vertical-align: top;\n",
       "    }\n",
       "\n",
       "    .dataframe thead th {\n",
       "        text-align: right;\n",
       "    }\n",
       "</style>\n",
       "<table border=\"1\" class=\"dataframe\">\n",
       "  <thead>\n",
       "    <tr style=\"text-align: right;\">\n",
       "      <th></th>\n",
       "      <th>content</th>\n",
       "      <th>keywords</th>\n",
       "      <th>summary</th>\n",
       "      <th>title</th>\n",
       "      <th>url</th>\n",
       "      <th>norm_content</th>\n",
       "      <th>norm_kw</th>\n",
       "    </tr>\n",
       "  </thead>\n",
       "  <tbody>\n",
       "    <tr>\n",
       "      <th>0</th>\n",
       "      <td>Многие интересуются, зачем нужна «Яблоку» моло...</td>\n",
       "      <td>[яблоко, молодежь, молодежное яблоко]</td>\n",
       "      <td></td>\n",
       "      <td>\"Молодежное \"Яблоко\": оппозиционная деятельнос...</td>\n",
       "      <td>http://www.ng.ru/ng_politics/2017-04-18/11_697...</td>\n",
       "      <td>[многие, интересоваться, нужный, яблоко, молод...</td>\n",
       "      <td>[яблоко, молодёжь, молодёжный, яблоко]</td>\n",
       "    </tr>\n",
       "    <tr>\n",
       "      <th>1</th>\n",
       "      <td>Вчера «Газпром» снизил верхнюю планку прогноза...</td>\n",
       "      <td>[газпром, газ]</td>\n",
       "      <td></td>\n",
       "      <td>\"Газпрома\" на всех не хватит</td>\n",
       "      <td>http://www.ng.ru/economics/2008-04-03/1_gazpro...</td>\n",
       "      <td>[вчера, газпром, снизить, верхний, планка, про...</td>\n",
       "      <td>[газпром, газ]</td>\n",
       "    </tr>\n",
       "    <tr>\n",
       "      <th>2</th>\n",
       "      <td>Долголетний труд Евгения Витковского на ниве п...</td>\n",
       "      <td>[франсуа рабле, сервантес, шекспир, конан дойл...</td>\n",
       "      <td>Евгений Витковский о том, как Босх протягивает...</td>\n",
       "      <td>Бесконечная партия в четырехмерные  шахматы</td>\n",
       "      <td>http://www.ng.ru/person/2018-03-22/10_927_vitk...</td>\n",
       "      <td>[долголетний, труд, евгений, витковский, нива,...</td>\n",
       "      <td>[франсуа, рабле, сервантес, шекспир, конана, д...</td>\n",
       "    </tr>\n",
       "    <tr>\n",
       "      <th>3</th>\n",
       "      <td>В Ленинском районном суде продолжаются слушани...</td>\n",
       "      <td>[владивосток, суд, ким, футина, выборы, боевое...</td>\n",
       "      <td>Фигурантке уголовного дела о фальсификации выб...</td>\n",
       "      <td>Экс-депутат, осужденная за фальсификацию выбор...</td>\n",
       "      <td>http://www.ng.ru/regions/2018-01-10/100_vladiv...</td>\n",
       "      <td>[ленинский, районный, суд, продолжаться, слуша...</td>\n",
       "      <td>[владивосток, суд, ким, футиный, выбор, боевой...</td>\n",
       "    </tr>\n",
       "    <tr>\n",
       "      <th>4</th>\n",
       "      <td>В 2012 году российская столица резко увеличила...</td>\n",
       "      <td>[новая москва, подмосковье, благоустройство, т...</td>\n",
       "      <td>Лучшие проекты благоустройства общественных пр...</td>\n",
       "      <td>Новая Москва останется территорией экологическ...</td>\n",
       "      <td>http://www.ng.ru/ng_stolitsa/2017-11-10/10_711...</td>\n",
       "      <td>[2012, год, российский, столица, резко, увелич...</td>\n",
       "      <td>[новый, москва, подмосковье, благоустройство, ...</td>\n",
       "    </tr>\n",
       "  </tbody>\n",
       "</table>\n",
       "</div>"
      ],
      "text/plain": [
       "                                             content  \\\n",
       "0  Многие интересуются, зачем нужна «Яблоку» моло...   \n",
       "1  Вчера «Газпром» снизил верхнюю планку прогноза...   \n",
       "2  Долголетний труд Евгения Витковского на ниве п...   \n",
       "3  В Ленинском районном суде продолжаются слушани...   \n",
       "4  В 2012 году российская столица резко увеличила...   \n",
       "\n",
       "                                            keywords  \\\n",
       "0              [яблоко, молодежь, молодежное яблоко]   \n",
       "1                                     [газпром, газ]   \n",
       "2  [франсуа рабле, сервантес, шекспир, конан дойл...   \n",
       "3  [владивосток, суд, ким, футина, выборы, боевое...   \n",
       "4  [новая москва, подмосковье, благоустройство, т...   \n",
       "\n",
       "                                             summary  \\\n",
       "0                                                      \n",
       "1                                                      \n",
       "2  Евгений Витковский о том, как Босх протягивает...   \n",
       "3  Фигурантке уголовного дела о фальсификации выб...   \n",
       "4  Лучшие проекты благоустройства общественных пр...   \n",
       "\n",
       "                                               title  \\\n",
       "0  \"Молодежное \"Яблоко\": оппозиционная деятельнос...   \n",
       "1                       \"Газпрома\" на всех не хватит   \n",
       "2        Бесконечная партия в четырехмерные  шахматы   \n",
       "3  Экс-депутат, осужденная за фальсификацию выбор...   \n",
       "4  Новая Москва останется территорией экологическ...   \n",
       "\n",
       "                                                 url  \\\n",
       "0  http://www.ng.ru/ng_politics/2017-04-18/11_697...   \n",
       "1  http://www.ng.ru/economics/2008-04-03/1_gazpro...   \n",
       "2  http://www.ng.ru/person/2018-03-22/10_927_vitk...   \n",
       "3  http://www.ng.ru/regions/2018-01-10/100_vladiv...   \n",
       "4  http://www.ng.ru/ng_stolitsa/2017-11-10/10_711...   \n",
       "\n",
       "                                        norm_content  \\\n",
       "0  [многие, интересоваться, нужный, яблоко, молод...   \n",
       "1  [вчера, газпром, снизить, верхний, планка, про...   \n",
       "2  [долголетний, труд, евгений, витковский, нива,...   \n",
       "3  [ленинский, районный, суд, продолжаться, слуша...   \n",
       "4  [2012, год, российский, столица, резко, увелич...   \n",
       "\n",
       "                                             norm_kw  \n",
       "0             [яблоко, молодёжь, молодёжный, яблоко]  \n",
       "1                                     [газпром, газ]  \n",
       "2  [франсуа, рабле, сервантес, шекспир, конана, д...  \n",
       "3  [владивосток, суд, ким, футиный, выбор, боевой...  \n",
       "4  [новый, москва, подмосковье, благоустройство, ...  "
      ]
     },
     "execution_count": 6,
     "metadata": {},
     "output_type": "execute_result"
    }
   ],
   "source": [
    "data.head()"
   ]
  },
  {
   "cell_type": "code",
   "execution_count": 9,
   "metadata": {},
   "outputs": [],
   "source": [
    "from gensim.corpora import *\n",
    "texts = [data.norm_content.iloc[i].split() for i in range(len(data))]\n",
    "dictionary = Dictionary(texts)\n",
    "corpus = [dictionary.doc2bow(text) for text in texts]"
   ]
  },
  {
   "cell_type": "code",
   "execution_count": 10,
   "metadata": {},
   "outputs": [
    {
     "name": "stdout",
     "output_type": "stream",
     "text": [
      "CPU times: user 20.8 s, sys: 984 ms, total: 21.8 s\n",
      "Wall time: 35.7 s\n"
     ]
    }
   ],
   "source": [
    "%%time\n",
    "from gensim.models import  *\n",
    "from gensim import similarities\n",
    "\n",
    "tfidf = TfidfModel(corpus)\n",
    "corpus_tfidf = tfidf[corpus]\n",
    "\n",
    "index = similarities.MatrixSimilarity(corpus_tfidf)\n",
    "sims = index[corpus_tfidf]"
   ]
  },
  {
   "cell_type": "code",
   "execution_count": 11,
   "metadata": {},
   "outputs": [
    {
     "name": "stdout",
     "output_type": "stream",
     "text": [
      "CPU times: user 23.1 s, sys: 4.93 s, total: 28.1 s\n",
      "Wall time: 12.8 s\n"
     ]
    }
   ],
   "source": [
    "%%time\n",
    "lsi = lsimodel.LsiModel(corpus=corpus_tfidf, id2word=dictionary, num_topics=30)"
   ]
  },
  {
   "cell_type": "code",
   "execution_count": 12,
   "metadata": {},
   "outputs": [
    {
     "data": {
      "text/plain": [
       "[(0,\n",
       "  '0.082*\"россия\" + 0.077*\"страна\" + 0.076*\"украина\" + 0.075*\"сша\" + 0.071*\"партия\" + 0.071*\"путин\" + 0.070*\"сирия\" + 0.068*\"военный\" + 0.067*\"власть\" + 0.066*\"президент\"'),\n",
       " (1,\n",
       "  '-0.343*\"гонка\" + -0.293*\"пилот\" + -0.249*\"команда\" + -0.171*\"трасса\" + -0.134*\"заезд\" + -0.111*\"ferrari\" + -0.109*\"машина\" + -0.105*\"хэмилтон\" + -0.103*\"нико\" + -0.103*\"подиум\"'),\n",
       " (2,\n",
       "  '0.175*\"гонка\" + 0.162*\"сирия\" + 0.158*\"пилот\" + 0.146*\"газа\" + -0.143*\"книга\" + 0.123*\"сирийский\" + 0.120*\"команда\" + -0.108*\"поэт\" + 0.108*\"газопровод\" + -0.100*\"фильм\"'),\n",
       " (3,\n",
       "  '-0.240*\"сирия\" + -0.195*\"сирийский\" + 0.164*\"газа\" + -0.144*\"дамаск\" + -0.120*\"военный\" + 0.107*\"миллиард\" + 0.100*\"куб\" + 0.096*\"компания\" + -0.096*\"вашингтон\" + 0.089*\"метр\"'),\n",
       " (4,\n",
       "  '-0.189*\"сирия\" + 0.162*\"партия\" + -0.155*\"сирийский\" + -0.141*\"книга\" + 0.136*\"украина\" + -0.118*\"поэт\" + -0.112*\"стих\" + 0.110*\"выбор\" + -0.109*\"дамаск\" + 0.109*\"путин\"')]"
      ]
     },
     "execution_count": 12,
     "metadata": {},
     "output_type": "execute_result"
    }
   ],
   "source": [
    "lsi.show_topics(5)"
   ]
  },
  {
   "cell_type": "code",
   "execution_count": 74,
   "metadata": {},
   "outputs": [],
   "source": [
    "def rank(text):\n",
    "    # To use it with a specific language supported by nltk.\n",
    "    r = Rake(language='ru', stopwords=stops,\n",
    "    punctuations=punct, ranking_metric=Metric.DEGREE_TO_FREQUENCY_RATIO, min_length=1, max_length=4)\n",
    "    r.extract_keywords_from_text(text)\n",
    "    kw = r.get_ranked_phrases()\n",
    "    return list(set(' '.join(kw).split(' ')))"
   ]
  },
  {
   "cell_type": "code",
   "execution_count": 75,
   "metadata": {},
   "outputs": [],
   "source": [
    "data['pred_kw'] = data.norm_content.apply(rank)"
   ]
  },
  {
   "cell_type": "code",
   "execution_count": 76,
   "metadata": {},
   "outputs": [
    {
     "name": "stdout",
     "output_type": "stream",
     "text": [
      "Precision -  0.02\n",
      "Recall -  0.04\n",
      "F1 -  0.03\n",
      "Jaccard -  0.01\n"
     ]
    }
   ],
   "source": [
    "evaluate(data['keywords'], data['pred_kw'])"
   ]
  },
  {
   "cell_type": "code",
   "execution_count": 65,
   "metadata": {},
   "outputs": [],
   "source": [
    "import yake"
   ]
  },
  {
   "cell_type": "code",
   "execution_count": 80,
   "metadata": {},
   "outputs": [
    {
     "name": "stdout",
     "output_type": "stream",
     "text": [
      "Precision -  0.14\n",
      "Recall -  0.44\n",
      "F1 -  0.2\n",
      "Jaccard -  0.12\n"
     ]
    }
   ],
   "source": [
    "import numpy as np\n",
    "simple_kwextractor = yake.KeywordExtractor(lan=\"ru\", n=1, dedupLim=0.8, windowsSize=2, top=20)\n",
    "kws=[]\n",
    "for i in range(data.shape[0]):\n",
    "    keywords = simple_kwextractor.extract_keywords(data.norm_content[i])\n",
    "    kw = [j for i,j in keywords]\n",
    "    kws.append(kw)\n",
    "evaluate(data.norm_kw, np.array(kws))"
   ]
  },
  {
   "cell_type": "code",
   "execution_count": null,
   "metadata": {},
   "outputs": [],
   "source": []
  }
 ],
 "metadata": {
  "kernelspec": {
   "display_name": "Python 3",
   "language": "python",
   "name": "python3"
  },
  "language_info": {
   "codemirror_mode": {
    "name": "ipython",
    "version": 3
   },
   "file_extension": ".py",
   "mimetype": "text/x-python",
   "name": "python",
   "nbconvert_exporter": "python",
   "pygments_lexer": "ipython3",
   "version": "3.6.7"
  }
 },
 "nbformat": 4,
 "nbformat_minor": 2
}
